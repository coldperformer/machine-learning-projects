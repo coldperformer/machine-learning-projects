{
  "nbformat": 4,
  "nbformat_minor": 2,
  "metadata": {
    "colab": {
      "name": "notebook.ipynb",
      "provenance": [],
      "collapsed_sections": []
    },
    "kernelspec": {
      "name": "python3",
      "display_name": "Python 3"
    },
    "language_info": {
      "name": "python"
    }
  },
  "cells": [
    {
      "cell_type": "markdown",
      "source": [
        ">**Developer:** Mukesh Kumar\r\n",
        "\r\n",
        ">**Email:** coldperformer@gmail.com\r\n",
        "\r\n",
        ">**LinkedIn:** https://www.linkedin.com/in/mk09/"
      ],
      "metadata": {
        "id": "p4lIv14cDefM"
      }
    },
    {
      "cell_type": "markdown",
      "source": [
        "---\n",
        "# **Table of Contents**\n",
        "---\n",
        "\n",
        "**1.** [**Introduction**](#Section1)<br>\n",
        "**2.** [**Problem Statement**](#Section2)<br>\n",
        "**3.** [**Installing & Importing Libraries**](#Section3)<br>\n",
        "  - **3.1** [**Installing & Upgrading Libraries**](#Section31)\n",
        "  - **3.2** [**Importing Libraries**](#Section32)\n",
        "\n",
        "**4.** [**Data Acquisition & Description**](#Section4)<br>\n",
        "  - **4.1** [**Data Description**](#Section41)\n",
        "  - **4.2** [**Data Information**](#Section42)\n",
        "\n",
        "**5.** [**Data Pre-Processing**](#Section5)<br>\n",
        "**6.** [**Exploratory Data Analysis**](#Section6)<br>\n",
        "**7.** [**Data Post-Processing**](#Section7)<br>\n",
        "**8.** [**Model Development & Evaluation**](#Section8)<br>\n",
        "**9.** [**Summarization**](#Section9)<br>\n",
        "  - **9.1** [**Conclusion**](#Section91)<br>\n",
        "  - **9.2** [**Actionable Insights**](#Section92)<br>"
      ],
      "metadata": {
        "id": "70kAtQJLDhUe"
      }
    },
    {
      "cell_type": "markdown",
      "source": [
        "---\n",
        "<a name = Section1></a>\n",
        "# **1. Introduction**\n",
        "---\n",
        "\n"
      ],
      "metadata": {
        "id": "1ZoXyFyVDrOm"
      }
    },
    {
      "cell_type": "markdown",
      "source": [
        "- Big Mart Retail is a grocery supermarket brand, and it is widely known for its home delivery services of food and grocery. \n",
        "\n",
        "- It enables the customer to shop in a relaxed way of browsing from their home or office. \n",
        "\n",
        "<center><img src=\"https://gitlab.com/coldperformer/multimedia/-/raw/main/machine-learning-projects/Images/01-Big-Mart-Intro.jpg\"></center>\n",
        "\n",
        "- It avoids getting stuck in traffic jams, standing in long queues, paying for parking, and carrying heavy bags and the customer can get everything they want, right at their doorstep."
      ],
      "metadata": {
        "id": "eUsUkQQkJxFn"
      }
    },
    {
      "cell_type": "markdown",
      "source": [
        "---\n",
        "<a name = Section2></a>\n",
        "# **2. Problem Statement**\n",
        "---\n",
        "\n"
      ],
      "metadata": {
        "id": "GJHSUJSJDu_D"
      }
    },
    {
      "cell_type": "markdown",
      "source": [
        "- Bigmart is a big supermarket chain, with stores all around the country. \n",
        "\n",
        "- The management of the shop had set out a challenge to all Data Scientist to help them create a model that can predict the sales per product for each store.\n",
        "\n",
        "- The shop has collected sales data of products across 10 stores in different cities over a given period of time."
      ],
      "metadata": {
        "id": "NJulPLFJJ69t"
      }
    },
    {
      "cell_type": "markdown",
      "source": [
        "---\n",
        "<a name = Section3></a>\n",
        "# **3. Installing and Importing Libraries**\n",
        "---"
      ],
      "metadata": {
        "id": "b6FI7wPcDzDz"
      }
    },
    {
      "cell_type": "markdown",
      "source": [
        "<a name = Section31></a>\n",
        "### **3.1 Installing & Upgrading Libraries**\n",
        "\n",
        "- **After installing & upgrading** the libraries, you need to **restart the runtime** to sync the libraries. \n",
        "\n",
        "- Make sure not to execute the following cell again after restarting the runtime."
      ],
      "metadata": {
        "id": "3DcQcK_FD1uj"
      }
    },
    {
      "cell_type": "code",
      "execution_count": null,
      "source": [
        "!pip install -q --upgrade datascience                               # A package that is required by pandas-profiling library\r\n",
        "!pip install -q --upgrade pandas-profiling                          # A library to generate basic statistics about data\r\n",
        "!pip install -q --upgrade category_encoders                         # A package with variety of encoding techniques"
      ],
      "outputs": [],
      "metadata": {
        "id": "FhZEpK0tDHAi"
      }
    },
    {
      "cell_type": "markdown",
      "source": [
        "<a name = Section32></a>\n",
        "### **3.2 Importing Libraries**"
      ],
      "metadata": {
        "id": "Z59A69S0D6P7"
      }
    },
    {
      "cell_type": "code",
      "execution_count": 163,
      "source": [
        "#-------------------------------------------------------------------------------------------------------------------------------\n",
        "import pandas as pd                                                 # Importing for panel data analysis\n",
        "from pandas_profiling import ProfileReport                          # Importing Pandas Profiling (To generate Univariate Analysis)\n",
        "pd.set_option('mode.chained_assignment', None)                      # Removing restriction over chained assignments operations\n",
        "pd.set_option('display.float_format', lambda x: '%.5f' % x)         # To suppress scientific notation over exponential values\n",
        "#-------------------------------------------------------------------------------------------------------------------------------\n",
        "import numpy as np                                                  # Importing package numpys (For Numerical Python)\n",
        "#-------------------------------------------------------------------------------------------------------------------------------\n",
        "import matplotlib.pyplot as plt                                     # Importing pyplot interface of matplotlib\n",
        "import seaborn as sns                                               # Importing seaborn library for interactive visualization\n",
        "%matplotlib inline\n",
        "#-------------------------------------------------------------------------------------------------------------------------------\n",
        "from category_encoders.hashing import HashingEncoder                # Hashing encoder for highly cardinal features\n",
        "from sklearn.preprocessing import LabelEncoder\n",
        "from sklearn.preprocessing import MinMaxScaler\n",
        "from sklearn.model_selection import train_test_split\n",
        "#-------------------------------------------------------------------------------------------------------------------------------\n",
        "from sklearn.linear_model import LinearRegression\n",
        "from sklearn.svm import SVR\n",
        "from sklearn.tree import DecisionTreeRegressor\n",
        "from sklearn.ensemble import RandomForestRegressor\n",
        "from sklearn.ensemble import BaggingRegressor\n",
        "from sklearn.ensemble import AdaBoostRegressor\n",
        "from sklearn.ensemble import GradientBoostingRegressor\n",
        "from sklearn.metrics import mean_squared_error\n",
        "#-------------------------------------------------------------------------------------------------------------------------------\n",
        "import warnings                                                     # Importing warning to disable runtime warnings\n",
        "warnings.filterwarnings(\"ignore\")                                   # Warnings will appear only once"
      ],
      "outputs": [],
      "metadata": {
        "id": "QwLzOJl1D9qg"
      }
    },
    {
      "cell_type": "markdown",
      "source": [
        "---\n",
        "<a name = Section4></a>\n",
        "# **4. Data Acquisition & Description**\n",
        "---\n",
        "\n",
        "\n",
        "- The dataset consists of information about the items sold per item and the sales developed from 1985 - 2010.\n",
        "\n",
        "|Type| Records | Features | Dataset Size |\n",
        "| :--: | :--: | :--: | :--: |\n",
        "|Train| 8523 | 12 | 849 KB | \n",
        "|Test| 5681 | 11 | 515 KB |\n",
        "\n",
        "<br>\n",
        "\n",
        "| # | Feature Name | Feature Description |\n",
        "|:--:|:--|:--| \n",
        "|01|Item_Identifier|A unique identifier for each item.|\n",
        "|02|Item_Weight|Weight of the item.|\n",
        "|03|Item_Fat_Content|The type of fat content in the item. Contains: [Low, Regular]|\n",
        "|04|Item_Visibility|The visibility of item in the store.|\n",
        "|05|Item_Type|Type of the item.|\n",
        "|06|Item_MRP|The monetary value of the item.|\n",
        "|07|Outlet_Identifier|A unique identifier of item outlet.|\n",
        "|08|Outlet_Establishment_Year|The establishment year of the outlet.|\n",
        "|09|Outlet_Size|Size of the outlet. Contains: [Small, Medium, High]|\n",
        "|10|Outlet_Location_Type|The type of the outlet location. Contains: [Tier 1, Tier 2, Tier 3]|\n",
        "|11|Outlet_Type|The type of the outlet.|\n",
        "|12|Item_Outlet_Sales|Sales value of outlet from where item bought.|"
      ],
      "metadata": {
        "id": "QVWHdpavEAcM"
      }
    },
    {
      "cell_type": "code",
      "execution_count": 315,
      "source": [
        "train_data = pd.read_csv('https://gitlab.com/coldperformer/multimedia/-/raw/main/machine-learning-projects/data/01-Big-Mart-Sales-Train.csv')\n",
        "print('Shape of the dataset:', train_data.shape)\n",
        "train_data.head()"
      ],
      "outputs": [
        {
          "output_type": "stream",
          "name": "stdout",
          "text": [
            "Shape of the dataset: (8523, 12)\n"
          ]
        },
        {
          "output_type": "execute_result",
          "data": {
            "text/html": [
              "<div>\n",
              "<style scoped>\n",
              "    .dataframe tbody tr th:only-of-type {\n",
              "        vertical-align: middle;\n",
              "    }\n",
              "\n",
              "    .dataframe tbody tr th {\n",
              "        vertical-align: top;\n",
              "    }\n",
              "\n",
              "    .dataframe thead th {\n",
              "        text-align: right;\n",
              "    }\n",
              "</style>\n",
              "<table border=\"1\" class=\"dataframe\">\n",
              "  <thead>\n",
              "    <tr style=\"text-align: right;\">\n",
              "      <th></th>\n",
              "      <th>Item_Identifier</th>\n",
              "      <th>Item_Weight</th>\n",
              "      <th>Item_Fat_Content</th>\n",
              "      <th>Item_Visibility</th>\n",
              "      <th>Item_Type</th>\n",
              "      <th>Item_MRP</th>\n",
              "      <th>Outlet_Identifier</th>\n",
              "      <th>Outlet_Establishment_Year</th>\n",
              "      <th>Outlet_Size</th>\n",
              "      <th>Outlet_Location_Type</th>\n",
              "      <th>Outlet_Type</th>\n",
              "      <th>Item_Outlet_Sales</th>\n",
              "    </tr>\n",
              "  </thead>\n",
              "  <tbody>\n",
              "    <tr>\n",
              "      <th>0</th>\n",
              "      <td>FDA15</td>\n",
              "      <td>9.30000</td>\n",
              "      <td>Low Fat</td>\n",
              "      <td>0.01605</td>\n",
              "      <td>Dairy</td>\n",
              "      <td>249.80920</td>\n",
              "      <td>OUT049</td>\n",
              "      <td>1999</td>\n",
              "      <td>Medium</td>\n",
              "      <td>Tier 1</td>\n",
              "      <td>Supermarket Type1</td>\n",
              "      <td>3735.13800</td>\n",
              "    </tr>\n",
              "    <tr>\n",
              "      <th>1</th>\n",
              "      <td>DRC01</td>\n",
              "      <td>5.92000</td>\n",
              "      <td>Regular</td>\n",
              "      <td>0.01928</td>\n",
              "      <td>Soft Drinks</td>\n",
              "      <td>48.26920</td>\n",
              "      <td>OUT018</td>\n",
              "      <td>2009</td>\n",
              "      <td>Medium</td>\n",
              "      <td>Tier 3</td>\n",
              "      <td>Supermarket Type2</td>\n",
              "      <td>443.42280</td>\n",
              "    </tr>\n",
              "    <tr>\n",
              "      <th>2</th>\n",
              "      <td>FDN15</td>\n",
              "      <td>17.50000</td>\n",
              "      <td>Low Fat</td>\n",
              "      <td>0.01676</td>\n",
              "      <td>Meat</td>\n",
              "      <td>141.61800</td>\n",
              "      <td>OUT049</td>\n",
              "      <td>1999</td>\n",
              "      <td>Medium</td>\n",
              "      <td>Tier 1</td>\n",
              "      <td>Supermarket Type1</td>\n",
              "      <td>2097.27000</td>\n",
              "    </tr>\n",
              "    <tr>\n",
              "      <th>3</th>\n",
              "      <td>FDX07</td>\n",
              "      <td>19.20000</td>\n",
              "      <td>Regular</td>\n",
              "      <td>0.00000</td>\n",
              "      <td>Fruits and Vegetables</td>\n",
              "      <td>182.09500</td>\n",
              "      <td>OUT010</td>\n",
              "      <td>1998</td>\n",
              "      <td>NaN</td>\n",
              "      <td>Tier 3</td>\n",
              "      <td>Grocery Store</td>\n",
              "      <td>732.38000</td>\n",
              "    </tr>\n",
              "    <tr>\n",
              "      <th>4</th>\n",
              "      <td>NCD19</td>\n",
              "      <td>8.93000</td>\n",
              "      <td>Low Fat</td>\n",
              "      <td>0.00000</td>\n",
              "      <td>Household</td>\n",
              "      <td>53.86140</td>\n",
              "      <td>OUT013</td>\n",
              "      <td>1987</td>\n",
              "      <td>High</td>\n",
              "      <td>Tier 3</td>\n",
              "      <td>Supermarket Type1</td>\n",
              "      <td>994.70520</td>\n",
              "    </tr>\n",
              "  </tbody>\n",
              "</table>\n",
              "</div>"
            ],
            "text/plain": [
              "  Item_Identifier  Item_Weight Item_Fat_Content  Item_Visibility  \\\n",
              "0           FDA15      9.30000          Low Fat          0.01605   \n",
              "1           DRC01      5.92000          Regular          0.01928   \n",
              "2           FDN15     17.50000          Low Fat          0.01676   \n",
              "3           FDX07     19.20000          Regular          0.00000   \n",
              "4           NCD19      8.93000          Low Fat          0.00000   \n",
              "\n",
              "               Item_Type  Item_MRP Outlet_Identifier  \\\n",
              "0                  Dairy 249.80920            OUT049   \n",
              "1            Soft Drinks  48.26920            OUT018   \n",
              "2                   Meat 141.61800            OUT049   \n",
              "3  Fruits and Vegetables 182.09500            OUT010   \n",
              "4              Household  53.86140            OUT013   \n",
              "\n",
              "   Outlet_Establishment_Year Outlet_Size Outlet_Location_Type  \\\n",
              "0                       1999      Medium               Tier 1   \n",
              "1                       2009      Medium               Tier 3   \n",
              "2                       1999      Medium               Tier 1   \n",
              "3                       1998         NaN               Tier 3   \n",
              "4                       1987        High               Tier 3   \n",
              "\n",
              "         Outlet_Type  Item_Outlet_Sales  \n",
              "0  Supermarket Type1         3735.13800  \n",
              "1  Supermarket Type2          443.42280  \n",
              "2  Supermarket Type1         2097.27000  \n",
              "3      Grocery Store          732.38000  \n",
              "4  Supermarket Type1          994.70520  "
            ]
          },
          "metadata": {},
          "execution_count": 315
        }
      ],
      "metadata": {
        "colab": {
          "base_uri": "https://localhost:8080/",
          "height": 326
        },
        "id": "g9dRz0XHD9mb",
        "outputId": "e10a658f-d795-4f73-e2ec-3ea6dc01148c"
      }
    },
    {
      "cell_type": "code",
      "execution_count": 316,
      "source": [
        "test_data = pd.read_csv('https://gitlab.com/coldperformer/multimedia/-/raw/main/machine-learning-projects/data/02-Big-Mart-Sales-Test.csv')\n",
        "print('Shape of the dataset:', test_data.shape)\n",
        "test_data.head()"
      ],
      "outputs": [
        {
          "output_type": "stream",
          "name": "stdout",
          "text": [
            "Shape of the dataset: (5681, 11)\n"
          ]
        },
        {
          "output_type": "execute_result",
          "data": {
            "text/html": [
              "<div>\n",
              "<style scoped>\n",
              "    .dataframe tbody tr th:only-of-type {\n",
              "        vertical-align: middle;\n",
              "    }\n",
              "\n",
              "    .dataframe tbody tr th {\n",
              "        vertical-align: top;\n",
              "    }\n",
              "\n",
              "    .dataframe thead th {\n",
              "        text-align: right;\n",
              "    }\n",
              "</style>\n",
              "<table border=\"1\" class=\"dataframe\">\n",
              "  <thead>\n",
              "    <tr style=\"text-align: right;\">\n",
              "      <th></th>\n",
              "      <th>Item_Identifier</th>\n",
              "      <th>Item_Weight</th>\n",
              "      <th>Item_Fat_Content</th>\n",
              "      <th>Item_Visibility</th>\n",
              "      <th>Item_Type</th>\n",
              "      <th>Item_MRP</th>\n",
              "      <th>Outlet_Identifier</th>\n",
              "      <th>Outlet_Establishment_Year</th>\n",
              "      <th>Outlet_Size</th>\n",
              "      <th>Outlet_Location_Type</th>\n",
              "      <th>Outlet_Type</th>\n",
              "    </tr>\n",
              "  </thead>\n",
              "  <tbody>\n",
              "    <tr>\n",
              "      <th>0</th>\n",
              "      <td>FDW58</td>\n",
              "      <td>20.75000</td>\n",
              "      <td>Low Fat</td>\n",
              "      <td>0.00756</td>\n",
              "      <td>Snack Foods</td>\n",
              "      <td>107.86220</td>\n",
              "      <td>OUT049</td>\n",
              "      <td>1999</td>\n",
              "      <td>Medium</td>\n",
              "      <td>Tier 1</td>\n",
              "      <td>Supermarket Type1</td>\n",
              "    </tr>\n",
              "    <tr>\n",
              "      <th>1</th>\n",
              "      <td>FDW14</td>\n",
              "      <td>8.30000</td>\n",
              "      <td>reg</td>\n",
              "      <td>0.03843</td>\n",
              "      <td>Dairy</td>\n",
              "      <td>87.31980</td>\n",
              "      <td>OUT017</td>\n",
              "      <td>2007</td>\n",
              "      <td>NaN</td>\n",
              "      <td>Tier 2</td>\n",
              "      <td>Supermarket Type1</td>\n",
              "    </tr>\n",
              "    <tr>\n",
              "      <th>2</th>\n",
              "      <td>NCN55</td>\n",
              "      <td>14.60000</td>\n",
              "      <td>Low Fat</td>\n",
              "      <td>0.09957</td>\n",
              "      <td>Others</td>\n",
              "      <td>241.75380</td>\n",
              "      <td>OUT010</td>\n",
              "      <td>1998</td>\n",
              "      <td>NaN</td>\n",
              "      <td>Tier 3</td>\n",
              "      <td>Grocery Store</td>\n",
              "    </tr>\n",
              "    <tr>\n",
              "      <th>3</th>\n",
              "      <td>FDQ58</td>\n",
              "      <td>7.31500</td>\n",
              "      <td>Low Fat</td>\n",
              "      <td>0.01539</td>\n",
              "      <td>Snack Foods</td>\n",
              "      <td>155.03400</td>\n",
              "      <td>OUT017</td>\n",
              "      <td>2007</td>\n",
              "      <td>NaN</td>\n",
              "      <td>Tier 2</td>\n",
              "      <td>Supermarket Type1</td>\n",
              "    </tr>\n",
              "    <tr>\n",
              "      <th>4</th>\n",
              "      <td>FDY38</td>\n",
              "      <td>nan</td>\n",
              "      <td>Regular</td>\n",
              "      <td>0.11860</td>\n",
              "      <td>Dairy</td>\n",
              "      <td>234.23000</td>\n",
              "      <td>OUT027</td>\n",
              "      <td>1985</td>\n",
              "      <td>Medium</td>\n",
              "      <td>Tier 3</td>\n",
              "      <td>Supermarket Type3</td>\n",
              "    </tr>\n",
              "  </tbody>\n",
              "</table>\n",
              "</div>"
            ],
            "text/plain": [
              "  Item_Identifier  Item_Weight Item_Fat_Content  Item_Visibility    Item_Type  \\\n",
              "0           FDW58     20.75000          Low Fat          0.00756  Snack Foods   \n",
              "1           FDW14      8.30000              reg          0.03843        Dairy   \n",
              "2           NCN55     14.60000          Low Fat          0.09957       Others   \n",
              "3           FDQ58      7.31500          Low Fat          0.01539  Snack Foods   \n",
              "4           FDY38          nan          Regular          0.11860        Dairy   \n",
              "\n",
              "   Item_MRP Outlet_Identifier  Outlet_Establishment_Year Outlet_Size  \\\n",
              "0 107.86220            OUT049                       1999      Medium   \n",
              "1  87.31980            OUT017                       2007         NaN   \n",
              "2 241.75380            OUT010                       1998         NaN   \n",
              "3 155.03400            OUT017                       2007         NaN   \n",
              "4 234.23000            OUT027                       1985      Medium   \n",
              "\n",
              "  Outlet_Location_Type        Outlet_Type  \n",
              "0               Tier 1  Supermarket Type1  \n",
              "1               Tier 2  Supermarket Type1  \n",
              "2               Tier 3      Grocery Store  \n",
              "3               Tier 2  Supermarket Type1  \n",
              "4               Tier 3  Supermarket Type3  "
            ]
          },
          "metadata": {},
          "execution_count": 316
        }
      ],
      "metadata": {
        "colab": {
          "base_uri": "https://localhost:8080/",
          "height": 309
        },
        "id": "lmtERmj5MSj-",
        "outputId": "e3f33c07-ae00-4c74-ec84-ef5fa1417e8d"
      }
    },
    {
      "cell_type": "markdown",
      "source": [
        "<a name = Section41></a>\n",
        "### **4.1 Data Description**\n",
        "\n",
        "- In this section we will get **information about the data** and see some observations."
      ],
      "metadata": {
        "id": "3TG7sVYgFGAt"
      }
    },
    {
      "cell_type": "code",
      "execution_count": 260,
      "source": [
        "train_data.describe()"
      ],
      "outputs": [
        {
          "output_type": "execute_result",
          "data": {
            "text/html": [
              "<div>\n",
              "<style scoped>\n",
              "    .dataframe tbody tr th:only-of-type {\n",
              "        vertical-align: middle;\n",
              "    }\n",
              "\n",
              "    .dataframe tbody tr th {\n",
              "        vertical-align: top;\n",
              "    }\n",
              "\n",
              "    .dataframe thead th {\n",
              "        text-align: right;\n",
              "    }\n",
              "</style>\n",
              "<table border=\"1\" class=\"dataframe\">\n",
              "  <thead>\n",
              "    <tr style=\"text-align: right;\">\n",
              "      <th></th>\n",
              "      <th>Item_Weight</th>\n",
              "      <th>Item_Visibility</th>\n",
              "      <th>Item_MRP</th>\n",
              "      <th>Outlet_Establishment_Year</th>\n",
              "      <th>Item_Outlet_Sales</th>\n",
              "    </tr>\n",
              "  </thead>\n",
              "  <tbody>\n",
              "    <tr>\n",
              "      <th>count</th>\n",
              "      <td>7060.00000</td>\n",
              "      <td>8523.00000</td>\n",
              "      <td>8523.00000</td>\n",
              "      <td>8523.00000</td>\n",
              "      <td>8523.00000</td>\n",
              "    </tr>\n",
              "    <tr>\n",
              "      <th>mean</th>\n",
              "      <td>12.85765</td>\n",
              "      <td>0.06613</td>\n",
              "      <td>140.99278</td>\n",
              "      <td>1997.83187</td>\n",
              "      <td>2181.28891</td>\n",
              "    </tr>\n",
              "    <tr>\n",
              "      <th>std</th>\n",
              "      <td>4.64346</td>\n",
              "      <td>0.05160</td>\n",
              "      <td>62.27507</td>\n",
              "      <td>8.37176</td>\n",
              "      <td>1706.49962</td>\n",
              "    </tr>\n",
              "    <tr>\n",
              "      <th>min</th>\n",
              "      <td>4.55500</td>\n",
              "      <td>0.00000</td>\n",
              "      <td>31.29000</td>\n",
              "      <td>1985.00000</td>\n",
              "      <td>33.29000</td>\n",
              "    </tr>\n",
              "    <tr>\n",
              "      <th>25%</th>\n",
              "      <td>8.77375</td>\n",
              "      <td>0.02699</td>\n",
              "      <td>93.82650</td>\n",
              "      <td>1987.00000</td>\n",
              "      <td>834.24740</td>\n",
              "    </tr>\n",
              "    <tr>\n",
              "      <th>50%</th>\n",
              "      <td>12.60000</td>\n",
              "      <td>0.05393</td>\n",
              "      <td>143.01280</td>\n",
              "      <td>1999.00000</td>\n",
              "      <td>1794.33100</td>\n",
              "    </tr>\n",
              "    <tr>\n",
              "      <th>75%</th>\n",
              "      <td>16.85000</td>\n",
              "      <td>0.09459</td>\n",
              "      <td>185.64370</td>\n",
              "      <td>2004.00000</td>\n",
              "      <td>3101.29640</td>\n",
              "    </tr>\n",
              "    <tr>\n",
              "      <th>max</th>\n",
              "      <td>21.35000</td>\n",
              "      <td>0.32839</td>\n",
              "      <td>266.88840</td>\n",
              "      <td>2009.00000</td>\n",
              "      <td>13086.96480</td>\n",
              "    </tr>\n",
              "  </tbody>\n",
              "</table>\n",
              "</div>"
            ],
            "text/plain": [
              "       Item_Weight  Item_Visibility   Item_MRP  Outlet_Establishment_Year  \\\n",
              "count   7060.00000       8523.00000 8523.00000                 8523.00000   \n",
              "mean      12.85765          0.06613  140.99278                 1997.83187   \n",
              "std        4.64346          0.05160   62.27507                    8.37176   \n",
              "min        4.55500          0.00000   31.29000                 1985.00000   \n",
              "25%        8.77375          0.02699   93.82650                 1987.00000   \n",
              "50%       12.60000          0.05393  143.01280                 1999.00000   \n",
              "75%       16.85000          0.09459  185.64370                 2004.00000   \n",
              "max       21.35000          0.32839  266.88840                 2009.00000   \n",
              "\n",
              "       Item_Outlet_Sales  \n",
              "count         8523.00000  \n",
              "mean          2181.28891  \n",
              "std           1706.49962  \n",
              "min             33.29000  \n",
              "25%            834.24740  \n",
              "50%           1794.33100  \n",
              "75%           3101.29640  \n",
              "max          13086.96480  "
            ]
          },
          "metadata": {},
          "execution_count": 260
        }
      ],
      "metadata": {
        "colab": {
          "base_uri": "https://localhost:8080/",
          "height": 297
        },
        "id": "1XfDvMM3D9jE",
        "outputId": "0734eb1d-f40d-4480-8406-deecc1c7c3c4"
      }
    },
    {
      "cell_type": "markdown",
      "source": [
        "<a name = Section42></a>\n",
        "### **4.2 Data Information**\n",
        "\n",
        "- In this section we will see the **information about the types of features**."
      ],
      "metadata": {
        "id": "nxc834h_FJDj"
      }
    },
    {
      "cell_type": "code",
      "execution_count": 261,
      "source": [
        "train_data.info()"
      ],
      "outputs": [
        {
          "output_type": "stream",
          "name": "stdout",
          "text": [
            "<class 'pandas.core.frame.DataFrame'>\n",
            "RangeIndex: 8523 entries, 0 to 8522\n",
            "Data columns (total 12 columns):\n",
            " #   Column                     Non-Null Count  Dtype  \n",
            "---  ------                     --------------  -----  \n",
            " 0   Item_Identifier            8523 non-null   object \n",
            " 1   Item_Weight                7060 non-null   float64\n",
            " 2   Item_Fat_Content           8523 non-null   object \n",
            " 3   Item_Visibility            8523 non-null   float64\n",
            " 4   Item_Type                  8523 non-null   object \n",
            " 5   Item_MRP                   8523 non-null   float64\n",
            " 6   Outlet_Identifier          8523 non-null   object \n",
            " 7   Outlet_Establishment_Year  8523 non-null   int64  \n",
            " 8   Outlet_Size                6113 non-null   object \n",
            " 9   Outlet_Location_Type       8523 non-null   object \n",
            " 10  Outlet_Type                8523 non-null   object \n",
            " 11  Item_Outlet_Sales          8523 non-null   float64\n",
            "dtypes: float64(4), int64(1), object(7)\n",
            "memory usage: 799.2+ KB\n"
          ]
        }
      ],
      "metadata": {
        "colab": {
          "base_uri": "https://localhost:8080/"
        },
        "id": "ZG1XgQcnFI7_",
        "outputId": "515c10f4-58ab-4592-cc05-248c815d8356"
      }
    },
    {
      "cell_type": "markdown",
      "source": [
        "<a name = Section5></a>\n",
        "\n",
        "---\n",
        "# **5. Data Pre-Processing**\n",
        "---"
      ],
      "metadata": {
        "id": "qm1W9n5AFO2N"
      }
    },
    {
      "cell_type": "markdown",
      "source": [
        "<a name = Section51></a>\n",
        "### **5.1 Pre Profiling Report**\n",
        "\n",
        "- For **quick analysis** pandas profiling is very handy.\n",
        "\n",
        "- Generates profile reports from a pandas DataFrame.\n",
        "\n",
        "- For each column **statistics** are presented in an interactive HTML report."
      ],
      "metadata": {
        "id": "x-0pU_KhFYFL"
      }
    },
    {
      "cell_type": "code",
      "execution_count": 262,
      "source": [
        "# profile = ProfileReport(df=train_data)\n",
        "# profile.to_file(output_file='Pre Profiling Report.html')"
      ],
      "outputs": [],
      "metadata": {
        "id": "dFqjhsFhFI4i"
      }
    },
    {
      "cell_type": "markdown",
      "source": [
        "**Observations:**\n",
        "\n",
        "- The report shows that there are in total 12 features out of which 7 are categorical and 5 are numerical.\n",
        "\n",
        "- There exists in total 3873 (3.8%) missing cells in the dataset.\n",
        "    - Item_Weight (1463 cells missing) &rarr; Replace missing data with median\n",
        "\n",
        "    - Outlet_Size (2410 cells missing) &rarr; Replace missing data with mode\n",
        "\n",
        "- Feature Item_Fat_Content contains non-standardized data values.\n",
        "    - Replace LF and low fat with Low Fat, and reg with Regular labels."
      ],
      "metadata": {
        "id": "IYCBXugfGDLf"
      }
    },
    {
      "cell_type": "markdown",
      "source": [
        "<a name = Section52></a>\n",
        "### **5.2 Data Cleaning**"
      ],
      "metadata": {
        "id": "QwhdIyp2Fusk"
      }
    },
    {
      "cell_type": "code",
      "execution_count": 307,
      "source": [
        "# Handling missing data over train set and test set\n",
        "train_data['Item_Weight'] = train_data['Item_Weight'].replace(np.nan, train_data['Item_Weight'].median())\n",
        "test_data['Item_Weight'] = test_data['Item_Weight'].replace(np.nan, train_data['Item_Weight'].median())\n",
        "train_data['Outlet_Size'] = train_data['Outlet_Size'].replace(np.nan, train_data['Outlet_Size'].mode()[0])\n",
        "test_data['Outlet_Size'] = test_data['Outlet_Size'].replace(np.nan, train_data['Outlet_Size'].mode()[0])\n",
        "\n",
        "# Data standardization over train set and test set\n",
        "train_data['Item_Fat_Content'] = train_data['Item_Fat_Content'].replace(['LF','low fat'], 'Low Fat')\n",
        "test_data['Item_Fat_Content'] = test_data['Item_Fat_Content'].replace(['LF','low fat'], 'Low Fat')\n",
        "train_data['Item_Fat_Content'] = train_data['Item_Fat_Content'].replace('reg', 'Regular')\n",
        "test_data['Item_Fat_Content'] = test_data['Item_Fat_Content'].replace('reg', 'Regular')"
      ],
      "outputs": [],
      "metadata": {
        "id": "dWjkO0ovFI15"
      }
    },
    {
      "cell_type": "markdown",
      "source": [
        "<a name = Section53></a>\n",
        "### **5.3 Post Profiling Report**"
      ],
      "metadata": {
        "id": "LayNgSOyI_e-"
      }
    },
    {
      "cell_type": "code",
      "execution_count": 264,
      "source": [
        "# profile = ProfileReport(df=train_data)\n",
        "# profile.to_file(output_file='Post Profiling Report.html')"
      ],
      "outputs": [],
      "metadata": {
        "id": "pZTa-hLhFIyv"
      }
    },
    {
      "cell_type": "markdown",
      "source": [
        "- Data Cleaning Success!"
      ],
      "metadata": {
        "id": "IQcq2szwXZLK"
      }
    },
    {
      "cell_type": "markdown",
      "source": [
        "<a name = Section6></a>\n",
        "\n",
        "---\n",
        "# **6. Exploratory Data Analysis**\n",
        "---"
      ],
      "metadata": {
        "id": "3cv51B_RTXuR"
      }
    },
    {
      "cell_type": "markdown",
      "source": [
        "**<h4>Question:** What is the item visibility per item type in the dataset?</h4>"
      ],
      "metadata": {
        "id": "_hKR-exIG5VI"
      }
    },
    {
      "cell_type": "code",
      "execution_count": 311,
      "source": [
        "figure = plt.figure(figsize=[15, 7])\n",
        "sns.barplot(y='Item_Type', x='Item_Visibility', data=train_data, ci=False)\n",
        "plt.xlabel(xlabel='Item Visibility', size=14)\n",
        "plt.ylabel(ylabel='Item Type', size=14)\n",
        "plt.title(label='Item Visibility per Item Type', size=16)\n",
        "plt.grid(b=True)\n",
        "plt.show()"
      ],
      "outputs": [
        {
          "output_type": "display_data",
          "data": {
            "image/png": "[encoded data removed]",
            "text/plain": [
              "<Figure size 1080x504 with 1 Axes>"
            ]
          },
          "metadata": {
            "needs_background": "light"
          }
        }
      ],
      "metadata": {
        "id": "qTw2piMbltuV",
        "colab": {
          "base_uri": "https://localhost:8080/",
          "height": 464
        },
        "outputId": "da1d7ea6-0059-4b40-81fc-316f09fabbd5"
      }
    },
    {
      "cell_type": "markdown",
      "source": [
        "**<h4>Question:** What is the item weight per item type in the dataset?</h4>"
      ],
      "metadata": {
        "id": "8ie-nYDmJO23"
      }
    },
    {
      "cell_type": "code",
      "execution_count": 313,
      "source": [
        "figure = plt.figure(figsize=[15, 7])\n",
        "sns.barplot(y='Item_Type', x='Item_Weight', data=train_data, ci=False)\n",
        "plt.xlabel(xlabel='Item Weight (in gms)', size=14)\n",
        "plt.ylabel(ylabel='Item Type', size=14)\n",
        "plt.title(label='Item Weight per Item Type', size=16)\n",
        "plt.grid(b=True)\n",
        "plt.show()"
      ],
      "outputs": [
        {
          "output_type": "display_data",
          "data": {
            "image/png": "[encoded data removed]",
            "text/plain": [
              "<Figure size 1080x504 with 1 Axes>"
            ]
          },
          "metadata": {
            "needs_background": "light"
          }
        }
      ],
      "metadata": {
        "colab": {
          "base_uri": "https://localhost:8080/",
          "height": 464
        },
        "id": "tQMFlzKwI2yS",
        "outputId": "915e23be-9b69-40e4-b964-d1376497e5b2"
      }
    },
    {
      "cell_type": "markdown",
      "source": [
        "**<h4>Question:** What is the item outlet sales per outlet type in the dataset?</h4>"
      ],
      "metadata": {
        "id": "NnTKY8KgJeA2"
      }
    },
    {
      "cell_type": "code",
      "execution_count": 314,
      "source": [
        "figure = plt.figure(figsize=[15, 7])\n",
        "sns.barplot(y='Outlet_Type', x='Item_Outlet_Sales', data=train_data, ci=False)\n",
        "plt.xlabel(xlabel='Item Outlet Sales', size=14)\n",
        "plt.ylabel(ylabel='Outlet Type', size=14)\n",
        "plt.title(label='Item Outlet Sales per Outlet Type', size=16)\n",
        "plt.grid(b=True)\n",
        "plt.show()"
      ],
      "outputs": [
        {
          "output_type": "display_data",
          "data": {
            "image/png": "[encoded data removed]",
            "text/plain": [
              "<Figure size 1080x504 with 1 Axes>"
            ]
          },
          "metadata": {
            "needs_background": "light"
          }
        }
      ],
      "metadata": {
        "colab": {
          "base_uri": "https://localhost:8080/",
          "height": 464
        },
        "id": "LtCAaA4fJSwg",
        "outputId": "3f3fbc36-0623-4650-be7e-8c2c3e0517bf"
      }
    },
    {
      "cell_type": "markdown",
      "source": [
        "<a name = Section7></a>\n",
        "\n",
        "---\n",
        "# **7. Data Post-Processing**\n",
        "---"
      ],
      "metadata": {
        "id": "YdLxiF4BTcXF"
      }
    },
    {
      "cell_type": "markdown",
      "source": [
        "<a name = Section71></a>\n",
        "### **7.1 Feature Encoding**"
      ],
      "metadata": {
        "id": "yFI4ReaTlwJI"
      }
    },
    {
      "cell_type": "code",
      "execution_count": 265,
      "source": [
        "cat_features = list()\n",
        "label_len = list()\n",
        "cat_values = list()\n",
        "\n",
        "# Get categorical features\n",
        "for feature in train_data.columns:\n",
        "    if train_data[feature].dtype == object:\n",
        "        cat_features.append(feature)\n",
        "\n",
        "# Identify labels and length per feature\n",
        "for i in cat_features:\n",
        "  label_len.append(len(train_data[i].unique()))\n",
        "  cat_values.append(train_data[i].unique())\n",
        "\n",
        "# Create and show categorical feature frame\n",
        "cat_frame = pd.DataFrame(data={'Length': label_len, 'Values': cat_values}, index=cat_features)\n",
        "cat_frame.transpose()"
      ],
      "outputs": [
        {
          "output_type": "execute_result",
          "data": {
            "text/html": [
              "<div>\n",
              "<style scoped>\n",
              "    .dataframe tbody tr th:only-of-type {\n",
              "        vertical-align: middle;\n",
              "    }\n",
              "\n",
              "    .dataframe tbody tr th {\n",
              "        vertical-align: top;\n",
              "    }\n",
              "\n",
              "    .dataframe thead th {\n",
              "        text-align: right;\n",
              "    }\n",
              "</style>\n",
              "<table border=\"1\" class=\"dataframe\">\n",
              "  <thead>\n",
              "    <tr style=\"text-align: right;\">\n",
              "      <th></th>\n",
              "      <th>Item_Identifier</th>\n",
              "      <th>Item_Fat_Content</th>\n",
              "      <th>Item_Type</th>\n",
              "      <th>Outlet_Identifier</th>\n",
              "      <th>Outlet_Size</th>\n",
              "      <th>Outlet_Location_Type</th>\n",
              "      <th>Outlet_Type</th>\n",
              "    </tr>\n",
              "  </thead>\n",
              "  <tbody>\n",
              "    <tr>\n",
              "      <th>Length</th>\n",
              "      <td>1559</td>\n",
              "      <td>2</td>\n",
              "      <td>16</td>\n",
              "      <td>10</td>\n",
              "      <td>3</td>\n",
              "      <td>3</td>\n",
              "      <td>4</td>\n",
              "    </tr>\n",
              "    <tr>\n",
              "      <th>Values</th>\n",
              "      <td>[FDA15, DRC01, FDN15, FDX07, NCD19, FDP36, FDO10, FDP10, FDH17, FDU28, FDY07, FDA03, FDX32, FDS46, FDF32, FDP49, NCB42, DRI11, FDU02, FDN22, FDW12, NCB30, FDC37, FDR28, NCD06, FDV10, DRJ59, FDE51, FDC14, FDV38, NCS17, FDP33, FDO23, DRH01, NCX29, FDV20, DRZ11, FDX10, FDB34, FDK43, FDA46, FDC02, FDL50, FDM39, NCP05, FDV49, FDL12, FDS02, NCL17, FDM40, FDR13, FDA43, NCP18, FDK21, NCX54, DRK35, FDY21, FDI26, FDM20, FDV27, FDF09, FDY40, FDY45, FDC46, FDH19, FDZ03, DRH37, NCI17, FDJ58, FDH35, FDG02, NCZ18, FDC29, FDQ10, FDN48, FDL04, FDV25, FDD58, FDN04, FDV45, NCL18, FDR12, FDG20, FDZ55, FDQ49, FDN33, FDN27, FDW20, DRG27, DRI25, FDA44, NCR17, FDU04, FDF41, FDB56, FDT28, FDD10, FDW57, DRB48, FDP09, ...]</td>\n",
              "      <td>[Low Fat, Regular]</td>\n",
              "      <td>[Dairy, Soft Drinks, Meat, Fruits and Vegetables, Household, Baking Goods, Snack Foods, Frozen Foods, Breakfast, Health and Hygiene, Hard Drinks, Canned, Breads, Starchy Foods, Others, Seafood]</td>\n",
              "      <td>[OUT049, OUT018, OUT010, OUT013, OUT027, OUT045, OUT017, OUT046, OUT035, OUT019]</td>\n",
              "      <td>[Medium, High, Small]</td>\n",
              "      <td>[Tier 1, Tier 3, Tier 2]</td>\n",
              "      <td>[Supermarket Type1, Supermarket Type2, Grocery Store, Supermarket Type3]</td>\n",
              "    </tr>\n",
              "  </tbody>\n",
              "</table>\n",
              "</div>"
            ],
            "text/plain": [
              "                                                                                                                                                                                                                                                                                                                                                                                                                                                                                                                                                                                                                                                                                                                          Item_Identifier  \\\n",
              "Length                                                                                                                                                                                                                                                                                                                                                                                                                                                                                                                                                                                                                                                                                                                               1559   \n",
              "Values  [FDA15, DRC01, FDN15, FDX07, NCD19, FDP36, FDO10, FDP10, FDH17, FDU28, FDY07, FDA03, FDX32, FDS46, FDF32, FDP49, NCB42, DRI11, FDU02, FDN22, FDW12, NCB30, FDC37, FDR28, NCD06, FDV10, DRJ59, FDE51, FDC14, FDV38, NCS17, FDP33, FDO23, DRH01, NCX29, FDV20, DRZ11, FDX10, FDB34, FDK43, FDA46, FDC02, FDL50, FDM39, NCP05, FDV49, FDL12, FDS02, NCL17, FDM40, FDR13, FDA43, NCP18, FDK21, NCX54, DRK35, FDY21, FDI26, FDM20, FDV27, FDF09, FDY40, FDY45, FDC46, FDH19, FDZ03, DRH37, NCI17, FDJ58, FDH35, FDG02, NCZ18, FDC29, FDQ10, FDN48, FDL04, FDV25, FDD58, FDN04, FDV45, NCL18, FDR12, FDG20, FDZ55, FDQ49, FDN33, FDN27, FDW20, DRG27, DRI25, FDA44, NCR17, FDU04, FDF41, FDB56, FDT28, FDD10, FDW57, DRB48, FDP09, ...]   \n",
              "\n",
              "          Item_Fat_Content  \\\n",
              "Length                   2   \n",
              "Values  [Low Fat, Regular]   \n",
              "\n",
              "                                                                                                                                                                                                Item_Type  \\\n",
              "Length                                                                                                                                                                                                 16   \n",
              "Values  [Dairy, Soft Drinks, Meat, Fruits and Vegetables, Household, Baking Goods, Snack Foods, Frozen Foods, Breakfast, Health and Hygiene, Hard Drinks, Canned, Breads, Starchy Foods, Others, Seafood]   \n",
              "\n",
              "                                                                       Outlet_Identifier  \\\n",
              "Length                                                                                10   \n",
              "Values  [OUT049, OUT018, OUT010, OUT013, OUT027, OUT045, OUT017, OUT046, OUT035, OUT019]   \n",
              "\n",
              "                  Outlet_Size      Outlet_Location_Type  \\\n",
              "Length                      3                         3   \n",
              "Values  [Medium, High, Small]  [Tier 1, Tier 3, Tier 2]   \n",
              "\n",
              "                                                                     Outlet_Type  \n",
              "Length                                                                         4  \n",
              "Values  [Supermarket Type1, Supermarket Type2, Grocery Store, Supermarket Type3]  "
            ]
          },
          "metadata": {},
          "execution_count": 265
        }
      ],
      "metadata": {
        "colab": {
          "base_uri": "https://localhost:8080/",
          "height": 349
        },
        "id": "6sKZof-0FIvk",
        "outputId": "41f2cee8-ad3a-43a9-9ea6-a892c837aaa3"
      }
    },
    {
      "cell_type": "markdown",
      "source": [
        "**Observations:**\n",
        "\n",
        "- Item_Identifier &rarr; Too many unique values, drop feature\n",
        "- Item_Fat_Content &rarr; One hot encoding\n",
        "- Item_Type &rarr; Hashing\n",
        "- Outlet_Identifier &rarr; Hashing\n",
        "- Outlet_Size &rarr; Label Encoding\n",
        "- Outlet_Location_Type &rarr; Label Encoding\n",
        "- Outlet_Type &rarr; One hot encoding"
      ],
      "metadata": {
        "id": "w_4_AiK3Zv-H"
      }
    },
    {
      "cell_type": "code",
      "execution_count": 266,
      "source": [
        "# Seperating out Item_Outlet_Sales from train set\n",
        "# Hashing requires same dimensions for train set and test set\n",
        "temp_var = train_data['Item_Outlet_Sales']\n",
        "train_data = train_data.drop(labels=['Item_Outlet_Sales'], axis=1)"
      ],
      "outputs": [],
      "metadata": {
        "id": "5qB9xps11vSi"
      }
    },
    {
      "cell_type": "code",
      "execution_count": 267,
      "source": [
        "# Dropping Item_Identifier from train and test set\n",
        "train_data = train_data.drop(labels=['Item_Identifier'], axis=1)\n",
        "test_data = test_data.drop(labels=['Item_Identifier'], axis=1)\n",
        "\n",
        "# One hot encoding on train and test set\n",
        "train_data = pd.get_dummies(data=train_data, columns=['Item_Fat_Content', 'Outlet_Type'])\n",
        "test_data = pd.get_dummies(data=test_data, columns=['Item_Fat_Content', 'Outlet_Type'])\n",
        "\n",
        "# Label encoding on train and test set\n",
        "labeler1 = LabelEncoder()\n",
        "labeler2 = LabelEncoder()\n",
        "labeler3 = LabelEncoder()\n",
        "\n",
        "train_data['Outlet_Size'] = labeler1.fit_transform(train_data['Outlet_Size'])\n",
        "test_data['Outlet_Size'] = labeler1.transform(test_data['Outlet_Size'])\n",
        "train_data['Outlet_Location_Type'] = labeler2.fit_transform(train_data['Outlet_Location_Type'])\n",
        "test_data['Outlet_Location_Type'] = labeler2.transform(test_data['Outlet_Location_Type'])\n",
        "train_data['Outlet_Establishment_Year'] = labeler3.fit_transform(train_data['Outlet_Establishment_Year'])\n",
        "test_data['Outlet_Establishment_Year'] = labeler3.transform(test_data['Outlet_Establishment_Year'])\n",
        "\n",
        "# Hash encoding on train and test set for Item_Type and Outlet_Identifier\n",
        "hasher = HashingEncoder(cols=['Item_Type', 'Outlet_Identifier'], n_components=5, max_process=1)\n",
        "encoded_train_data = hasher.fit_transform(train_data)\n",
        "encoded_test_data = hasher.transform(test_data)\n",
        "\n",
        "# Adding Item_Outlet_Sales back to train set\n",
        "encoded_train_data['Item_Outlet_Sales'] = temp_var\n",
        "\n",
        "# Display the dimensions of train and test, and view top 5 entries\n",
        "print('Train Data Shape:', encoded_train_data.shape)\n",
        "print('Test Data Shape:', encoded_test_data.shape)\n",
        "encoded_train_data.head()"
      ],
      "outputs": [
        {
          "output_type": "stream",
          "name": "stdout",
          "text": [
            "Train Data Shape: (8523, 18)\n",
            "Test Data Shape: (5681, 17)\n"
          ]
        },
        {
          "output_type": "execute_result",
          "data": {
            "text/html": [
              "<div>\n",
              "<style scoped>\n",
              "    .dataframe tbody tr th:only-of-type {\n",
              "        vertical-align: middle;\n",
              "    }\n",
              "\n",
              "    .dataframe tbody tr th {\n",
              "        vertical-align: top;\n",
              "    }\n",
              "\n",
              "    .dataframe thead th {\n",
              "        text-align: right;\n",
              "    }\n",
              "</style>\n",
              "<table border=\"1\" class=\"dataframe\">\n",
              "  <thead>\n",
              "    <tr style=\"text-align: right;\">\n",
              "      <th></th>\n",
              "      <th>col_0</th>\n",
              "      <th>col_1</th>\n",
              "      <th>col_2</th>\n",
              "      <th>col_3</th>\n",
              "      <th>col_4</th>\n",
              "      <th>Item_Weight</th>\n",
              "      <th>Item_Visibility</th>\n",
              "      <th>Item_MRP</th>\n",
              "      <th>Outlet_Establishment_Year</th>\n",
              "      <th>Outlet_Size</th>\n",
              "      <th>Outlet_Location_Type</th>\n",
              "      <th>Item_Fat_Content_Low Fat</th>\n",
              "      <th>Item_Fat_Content_Regular</th>\n",
              "      <th>Outlet_Type_Grocery Store</th>\n",
              "      <th>Outlet_Type_Supermarket Type1</th>\n",
              "      <th>Outlet_Type_Supermarket Type2</th>\n",
              "      <th>Outlet_Type_Supermarket Type3</th>\n",
              "      <th>Item_Outlet_Sales</th>\n",
              "    </tr>\n",
              "  </thead>\n",
              "  <tbody>\n",
              "    <tr>\n",
              "      <th>0</th>\n",
              "      <td>0</td>\n",
              "      <td>1</td>\n",
              "      <td>0</td>\n",
              "      <td>1</td>\n",
              "      <td>0</td>\n",
              "      <td>9.30000</td>\n",
              "      <td>0.01605</td>\n",
              "      <td>249.80920</td>\n",
              "      <td>4</td>\n",
              "      <td>1</td>\n",
              "      <td>0</td>\n",
              "      <td>1</td>\n",
              "      <td>0</td>\n",
              "      <td>0</td>\n",
              "      <td>1</td>\n",
              "      <td>0</td>\n",
              "      <td>0</td>\n",
              "      <td>3735.13800</td>\n",
              "    </tr>\n",
              "    <tr>\n",
              "      <th>1</th>\n",
              "      <td>0</td>\n",
              "      <td>0</td>\n",
              "      <td>1</td>\n",
              "      <td>1</td>\n",
              "      <td>0</td>\n",
              "      <td>5.92000</td>\n",
              "      <td>0.01928</td>\n",
              "      <td>48.26920</td>\n",
              "      <td>8</td>\n",
              "      <td>1</td>\n",
              "      <td>2</td>\n",
              "      <td>0</td>\n",
              "      <td>1</td>\n",
              "      <td>0</td>\n",
              "      <td>0</td>\n",
              "      <td>1</td>\n",
              "      <td>0</td>\n",
              "      <td>443.42280</td>\n",
              "    </tr>\n",
              "    <tr>\n",
              "      <th>2</th>\n",
              "      <td>0</td>\n",
              "      <td>0</td>\n",
              "      <td>0</td>\n",
              "      <td>1</td>\n",
              "      <td>1</td>\n",
              "      <td>17.50000</td>\n",
              "      <td>0.01676</td>\n",
              "      <td>141.61800</td>\n",
              "      <td>4</td>\n",
              "      <td>1</td>\n",
              "      <td>0</td>\n",
              "      <td>1</td>\n",
              "      <td>0</td>\n",
              "      <td>0</td>\n",
              "      <td>1</td>\n",
              "      <td>0</td>\n",
              "      <td>0</td>\n",
              "      <td>2097.27000</td>\n",
              "    </tr>\n",
              "    <tr>\n",
              "      <th>3</th>\n",
              "      <td>0</td>\n",
              "      <td>0</td>\n",
              "      <td>0</td>\n",
              "      <td>2</td>\n",
              "      <td>0</td>\n",
              "      <td>19.20000</td>\n",
              "      <td>0.00000</td>\n",
              "      <td>182.09500</td>\n",
              "      <td>3</td>\n",
              "      <td>1</td>\n",
              "      <td>2</td>\n",
              "      <td>0</td>\n",
              "      <td>1</td>\n",
              "      <td>1</td>\n",
              "      <td>0</td>\n",
              "      <td>0</td>\n",
              "      <td>0</td>\n",
              "      <td>732.38000</td>\n",
              "    </tr>\n",
              "    <tr>\n",
              "      <th>4</th>\n",
              "      <td>1</td>\n",
              "      <td>1</td>\n",
              "      <td>0</td>\n",
              "      <td>0</td>\n",
              "      <td>0</td>\n",
              "      <td>8.93000</td>\n",
              "      <td>0.00000</td>\n",
              "      <td>53.86140</td>\n",
              "      <td>1</td>\n",
              "      <td>0</td>\n",
              "      <td>2</td>\n",
              "      <td>1</td>\n",
              "      <td>0</td>\n",
              "      <td>0</td>\n",
              "      <td>1</td>\n",
              "      <td>0</td>\n",
              "      <td>0</td>\n",
              "      <td>994.70520</td>\n",
              "    </tr>\n",
              "  </tbody>\n",
              "</table>\n",
              "</div>"
            ],
            "text/plain": [
              "   col_0  col_1  col_2  col_3  col_4  Item_Weight  Item_Visibility  Item_MRP  \\\n",
              "0      0      1      0      1      0      9.30000          0.01605 249.80920   \n",
              "1      0      0      1      1      0      5.92000          0.01928  48.26920   \n",
              "2      0      0      0      1      1     17.50000          0.01676 141.61800   \n",
              "3      0      0      0      2      0     19.20000          0.00000 182.09500   \n",
              "4      1      1      0      0      0      8.93000          0.00000  53.86140   \n",
              "\n",
              "   Outlet_Establishment_Year  Outlet_Size  Outlet_Location_Type  \\\n",
              "0                          4            1                     0   \n",
              "1                          8            1                     2   \n",
              "2                          4            1                     0   \n",
              "3                          3            1                     2   \n",
              "4                          1            0                     2   \n",
              "\n",
              "   Item_Fat_Content_Low Fat  Item_Fat_Content_Regular  \\\n",
              "0                         1                         0   \n",
              "1                         0                         1   \n",
              "2                         1                         0   \n",
              "3                         0                         1   \n",
              "4                         1                         0   \n",
              "\n",
              "   Outlet_Type_Grocery Store  Outlet_Type_Supermarket Type1  \\\n",
              "0                          0                              1   \n",
              "1                          0                              0   \n",
              "2                          0                              1   \n",
              "3                          1                              0   \n",
              "4                          0                              1   \n",
              "\n",
              "   Outlet_Type_Supermarket Type2  Outlet_Type_Supermarket Type3  \\\n",
              "0                              0                              0   \n",
              "1                              1                              0   \n",
              "2                              0                              0   \n",
              "3                              0                              0   \n",
              "4                              0                              0   \n",
              "\n",
              "   Item_Outlet_Sales  \n",
              "0         3735.13800  \n",
              "1          443.42280  \n",
              "2         2097.27000  \n",
              "3          732.38000  \n",
              "4          994.70520  "
            ]
          },
          "metadata": {},
          "execution_count": 267
        }
      ],
      "metadata": {
        "id": "3cxTL5bxTtTX",
        "colab": {
          "base_uri": "https://localhost:8080/",
          "height": 275
        },
        "outputId": "5254c33e-c05c-4c73-fcc4-57bd5793bac7"
      }
    },
    {
      "cell_type": "markdown",
      "source": [
        "<a name = Section72></a>\n",
        "### **7.2 Feature Scaling**\n",
        "\n",
        "- Features such as Item_Weight, Item_Fat_Content, Item_MRP, Item_Outlet_Sales are not scaled at same range.\n",
        "\n",
        "- To scale them, we will use Min-max scaler on train set and test set."
      ],
      "metadata": {
        "id": "ly2LvUgAnI-4"
      }
    },
    {
      "cell_type": "code",
      "execution_count": 268,
      "source": [
        "scaler = MinMaxScaler()\n",
        "encoded_train_data['Item_Weight'] = scaler.fit_transform(encoded_train_data[['Item_Weight']])\n",
        "encoded_test_data['Item_Weight'] = scaler.transform(encoded_test_data[['Item_Weight']])\n",
        "encoded_train_data['Item_MRP'] = scaler.fit_transform(encoded_train_data[['Item_MRP']])\n",
        "encoded_test_data['Item_MRP'] = scaler.transform(encoded_test_data[['Item_MRP']])\n",
        "encoded_train_data['Item_Outlet_Sales'] = scaler.fit_transform(encoded_train_data[['Item_Outlet_Sales']])\n",
        "encoded_train_data[['Item_Weight', 'Item_MRP', 'Item_Outlet_Sales']].describe()"
      ],
      "outputs": [
        {
          "output_type": "execute_result",
          "data": {
            "text/html": [
              "<div>\n",
              "<style scoped>\n",
              "    .dataframe tbody tr th:only-of-type {\n",
              "        vertical-align: middle;\n",
              "    }\n",
              "\n",
              "    .dataframe tbody tr th {\n",
              "        vertical-align: top;\n",
              "    }\n",
              "\n",
              "    .dataframe thead th {\n",
              "        text-align: right;\n",
              "    }\n",
              "</style>\n",
              "<table border=\"1\" class=\"dataframe\">\n",
              "  <thead>\n",
              "    <tr style=\"text-align: right;\">\n",
              "      <th></th>\n",
              "      <th>Item_Weight</th>\n",
              "      <th>Item_MRP</th>\n",
              "      <th>Item_Outlet_Sales</th>\n",
              "    </tr>\n",
              "  </thead>\n",
              "  <tbody>\n",
              "    <tr>\n",
              "      <th>count</th>\n",
              "      <td>8523.00000</td>\n",
              "      <td>8523.00000</td>\n",
              "      <td>8523.00000</td>\n",
              "    </tr>\n",
              "    <tr>\n",
              "      <th>mean</th>\n",
              "      <td>0.49172</td>\n",
              "      <td>0.46563</td>\n",
              "      <td>0.16455</td>\n",
              "    </tr>\n",
              "    <tr>\n",
              "      <th>std</th>\n",
              "      <td>0.25170</td>\n",
              "      <td>0.26433</td>\n",
              "      <td>0.13073</td>\n",
              "    </tr>\n",
              "    <tr>\n",
              "      <th>min</th>\n",
              "      <td>0.00000</td>\n",
              "      <td>0.00000</td>\n",
              "      <td>0.00000</td>\n",
              "    </tr>\n",
              "    <tr>\n",
              "      <th>25%</th>\n",
              "      <td>0.28312</td>\n",
              "      <td>0.26544</td>\n",
              "      <td>0.06136</td>\n",
              "    </tr>\n",
              "    <tr>\n",
              "      <th>50%</th>\n",
              "      <td>0.47901</td>\n",
              "      <td>0.47421</td>\n",
              "      <td>0.13491</td>\n",
              "    </tr>\n",
              "    <tr>\n",
              "      <th>75%</th>\n",
              "      <td>0.68145</td>\n",
              "      <td>0.65516</td>\n",
              "      <td>0.23503</td>\n",
              "    </tr>\n",
              "    <tr>\n",
              "      <th>max</th>\n",
              "      <td>1.00000</td>\n",
              "      <td>1.00000</td>\n",
              "      <td>1.00000</td>\n",
              "    </tr>\n",
              "  </tbody>\n",
              "</table>\n",
              "</div>"
            ],
            "text/plain": [
              "       Item_Weight   Item_MRP  Item_Outlet_Sales\n",
              "count   8523.00000 8523.00000         8523.00000\n",
              "mean       0.49172    0.46563            0.16455\n",
              "std        0.25170    0.26433            0.13073\n",
              "min        0.00000    0.00000            0.00000\n",
              "25%        0.28312    0.26544            0.06136\n",
              "50%        0.47901    0.47421            0.13491\n",
              "75%        0.68145    0.65516            0.23503\n",
              "max        1.00000    1.00000            1.00000"
            ]
          },
          "metadata": {},
          "execution_count": 268
        }
      ],
      "metadata": {
        "colab": {
          "base_uri": "https://localhost:8080/",
          "height": 297
        },
        "id": "8HM6TW0f-rZu",
        "outputId": "1b1a0d6d-f4e3-4c9f-e905-3b9b9d1ee3f6"
      }
    },
    {
      "cell_type": "code",
      "execution_count": 269,
      "source": [
        "# Creating subplots\n",
        "fig, axes = plt.subplots(nrows=1, ncols=3, sharex=False, figsize=(15, 5))\n",
        "\n",
        "# Generating random colors based on number of columns\n",
        "colors = []\n",
        "\n",
        "for i in range(3):\n",
        "  colors.append('#%06X' % np.random.randint(0, 0xFFFFFF))\n",
        "\n",
        "# Choosing numerical columns\n",
        "columns = ['Item_Weight', 'Item_MRP', 'Item_Outlet_Sales']      \n",
        "                \n",
        "for ax, col, color in zip(axes.flat, columns, colors):\n",
        "    sns.distplot(a=encoded_train_data[col], bins=50, ax=ax, color=color)\n",
        "    ax.set_title(col)\n",
        "    plt.setp(axes, yticks=[])\n",
        "    ax.grid(False)\n",
        "plt.tight_layout()\n",
        "plt.grid(b=True)\n",
        "plt.show()"
      ],
      "outputs": [
        {
          "output_type": "display_data",
          "data": {
            "image/png": "[encoded data removed]",
            "text/plain": [
              "<Figure size 1080x360 with 3 Axes>"
            ]
          },
          "metadata": {
            "needs_background": "light"
          }
        }
      ],
      "metadata": {
        "colab": {
          "base_uri": "https://localhost:8080/",
          "height": 369
        },
        "id": "38oRLNVoCfG2",
        "outputId": "e29ddc81-9504-44b5-c030-7b663e5f5322"
      }
    },
    {
      "cell_type": "code",
      "execution_count": 270,
      "source": [
        "# Applying square root transformation\n",
        "encoded_train_data['Item_Outlet_Sales'] = np.sqrt(encoded_train_data['Item_Outlet_Sales'])\n",
        "sns.distplot(a=encoded_train_data['Item_Outlet_Sales'], bins=50)\n",
        "plt.show()"
      ],
      "outputs": [
        {
          "output_type": "display_data",
          "data": {
            "image/png": "[encoded data removed]",
            "text/plain": [
              "<Figure size 432x288 with 1 Axes>"
            ]
          },
          "metadata": {
            "needs_background": "light"
          }
        }
      ],
      "metadata": {
        "colab": {
          "base_uri": "https://localhost:8080/",
          "height": 280
        },
        "id": "_c60wquDG2be",
        "outputId": "93e4c1f0-e720-4046-dac8-d6dd14498f1d"
      }
    },
    {
      "cell_type": "markdown",
      "source": [
        "<a name = Section73></a>\n",
        "### **7.3 Feature Binning**\n",
        "\n",
        "- To add control over model learning, we need to ensure that the data splitting happens in stratified fashion."
      ],
      "metadata": {
        "id": "aEo7iM9cIhWu"
      }
    },
    {
      "cell_type": "code",
      "execution_count": 271,
      "source": [
        "bins = [encoded_train_data['Item_Outlet_Sales'].quantile(0), \n",
        "        encoded_train_data['Item_Outlet_Sales'].quantile(0.25), \n",
        "        encoded_train_data['Item_Outlet_Sales'].quantile(0.5), \n",
        "        encoded_train_data['Item_Outlet_Sales'].quantile(0.75), \n",
        "        encoded_train_data['Item_Outlet_Sales'].quantile(1)]\n",
        "names = ['Level0', 'Level1', 'Level2', 'Level3']\n",
        "\n",
        "encoded_train_data['Sales_Bin'] = pd.cut(x=encoded_train_data['Item_Outlet_Sales'], \n",
        "                                         bins=bins, \n",
        "                                         labels=names, \n",
        "                                         include_lowest=True)\n",
        "\n",
        "sns.countplot(x='Sales_Bin', data=encoded_train_data)\n",
        "plt.show()"
      ],
      "outputs": [
        {
          "output_type": "display_data",
          "data": {
            "image/png": "[encoded data removed]",
            "text/plain": [
              "<Figure size 432x288 with 1 Axes>"
            ]
          },
          "metadata": {
            "needs_background": "light"
          }
        }
      ],
      "metadata": {
        "colab": {
          "base_uri": "https://localhost:8080/",
          "height": 280
        },
        "id": "OLwmn41HIvrd",
        "outputId": "3e61dfea-a632-493f-b375-ce7e6633421c"
      }
    },
    {
      "cell_type": "markdown",
      "source": [
        "<a name = Section73></a>\n",
        "### **7.3 Data Preparation**\n",
        "\n",
        "- Let's split our data into train set and validation set."
      ],
      "metadata": {
        "id": "UAo62YQcK40h"
      }
    },
    {
      "cell_type": "code",
      "execution_count": 272,
      "source": [
        "X = encoded_train_data.drop(labels=['Item_Outlet_Sales'], axis=1)\n",
        "y = encoded_train_data['Item_Outlet_Sales']"
      ],
      "outputs": [],
      "metadata": {
        "id": "tZqRUUWKLST4"
      }
    },
    {
      "cell_type": "code",
      "execution_count": 273,
      "source": [
        "X_train, X_val, y_train, y_val = train_test_split(X, y, test_size=0.2, random_state=42, stratify=X['Sales_Bin'])\n",
        "\n",
        "print('Train Dat Shape:', X_train.shape, y_train.shape)\n",
        "print('Validation Data Shape:', X_val.shape, y_val.shape)"
      ],
      "outputs": [
        {
          "output_type": "stream",
          "name": "stdout",
          "text": [
            "Train Dat Shape: (6818, 18) (6818,)\n",
            "Validation Data Shape: (1705, 18) (1705,)\n"
          ]
        }
      ],
      "metadata": {
        "colab": {
          "base_uri": "https://localhost:8080/"
        },
        "id": "9VxJokm1LDIm",
        "outputId": "23ae11b9-01f7-498d-8013-2dc120e1f5e8"
      }
    },
    {
      "cell_type": "code",
      "execution_count": 276,
      "source": [
        "X_train.drop(labels=['Sales_Bin'], axis=1, inplace=True)\n",
        "X_val.drop(labels=['Sales_Bin'], axis=1, inplace=True)"
      ],
      "outputs": [],
      "metadata": {
        "id": "MbDINW9dWk2Z"
      }
    },
    {
      "cell_type": "markdown",
      "source": [
        "<a name = Section8></a>\n",
        "\n",
        "---\n",
        "# **8. Model Development & Evaluation**\n",
        "---"
      ],
      "metadata": {
        "id": "d4zoCqlWTkcP"
      }
    },
    {
      "cell_type": "code",
      "execution_count": 282,
      "source": [
        "%%time\n",
        "\n",
        "models = [LinearRegression(), \n",
        "          SVR(), \n",
        "          DecisionTreeRegressor(), \n",
        "          RandomForestRegressor(), \n",
        "          BaggingRegressor(), \n",
        "          AdaBoostRegressor(),\n",
        "          GradientBoostingRegressor()]\n",
        "\n",
        "r_squared_train = list()\n",
        "r_squared_val = list()\n",
        "mse_train = list()\n",
        "mse_val = list()\n",
        "model_names = list()\n",
        "\n",
        "for model in models:\n",
        "    model.fit(X_train, y_train)\n",
        "    model_names.append(model.__class__.__name__)\n",
        "\n",
        "    train_predictions = model.predict(X_train)\n",
        "    validation_predictions = model.predict(X_val)\n",
        "\n",
        "    r_squared_train.append(model.score(X_train, y_train))\n",
        "    r_squared_val.append(model.score(X_val, y_val))\n",
        "\n",
        "    mse_train.append(mean_squared_error(y_train, train_predictions))\n",
        "    mse_val.append(mean_squared_error(y_val, validation_predictions))"
      ],
      "outputs": [
        {
          "output_type": "stream",
          "name": "stdout",
          "text": [
            "CPU times: user 8.34 s, sys: 158 ms, total: 8.5 s\n",
            "Wall time: 8.36 s\n"
          ]
        }
      ],
      "metadata": {
        "id": "9vINqM8JTpml",
        "colab": {
          "base_uri": "https://localhost:8080/"
        },
        "outputId": "8a5e326f-9391-48a4-a4ae-459dbc9814de"
      }
    },
    {
      "cell_type": "code",
      "execution_count": 294,
      "source": [
        "x_range_values = [i for i in range(len(models))]\n",
        "\n",
        "figure = plt.figure(figsize=[15, 5])\n",
        "plt.subplot(1, 2, 1)\n",
        "sns.lineplot(x=x_range_values, y=r_squared_train, color='blue')\n",
        "sns.lineplot(x=x_range_values, y=r_squared_val, color='red')\n",
        "plt.xticks(ticks=x_range_values, labels=model_names, rotation=35)\n",
        "plt.xlabel(xlabel='Models', size=12)\n",
        "plt.ylabel(ylabel='Scores', size=12)\n",
        "plt.title(label='Scores (Train vs Validation)', size=14)\n",
        "plt.grid(b=True)\n",
        "\n",
        "plt.subplot(1, 2, 2)\n",
        "sns.lineplot(x=x_range_values, y=mse_train, color='blue')\n",
        "sns.lineplot(x=x_range_values, y=mse_val, color='red')\n",
        "plt.xticks(ticks=x_range_values, labels=model_names, rotation=35)\n",
        "plt.xlabel(xlabel='Models', size=12)\n",
        "plt.ylabel(ylabel='MSE', size=12)\n",
        "plt.title(label='MSE (Train vs Validation)', size=14)\n",
        "plt.grid(b=True)\n",
        "plt.show()"
      ],
      "outputs": [
        {
          "output_type": "display_data",
          "data": {
            "image/png": "[encoded data removed]",
            "text/plain": [
              "<Figure size 1080x360 with 2 Axes>"
            ]
          },
          "metadata": {
            "needs_background": "light"
          }
        }
      ],
      "metadata": {
        "colab": {
          "base_uri": "https://localhost:8080/",
          "height": 430
        },
        "id": "LRl2WebxW0C4",
        "outputId": "affc41f3-541a-44a3-f7e8-e270137a7189"
      }
    },
    {
      "cell_type": "code",
      "execution_count": 295,
      "source": [
        "%%time\n",
        "\n",
        "models = [RandomForestRegressor(n_estimators=1000, random_state=42), \n",
        "          GradientBoostingRegressor(n_estimators=1000, random_state=42)]\n",
        "\n",
        "r_squared_train = list()\n",
        "r_squared_val = list()\n",
        "mse_train = list()\n",
        "mse_val = list()\n",
        "model_names = list()\n",
        "\n",
        "for model in models:\n",
        "    model.fit(X_train, y_train)\n",
        "    model_names.append(model.__class__.__name__)\n",
        "\n",
        "    train_predictions = model.predict(X_train)\n",
        "    validation_predictions = model.predict(X_val)\n",
        "\n",
        "    r_squared_train.append(model.score(X_train, y_train))\n",
        "    r_squared_val.append(model.score(X_val, y_val))\n",
        "\n",
        "    mse_train.append(mean_squared_error(y_train, train_predictions))\n",
        "    mse_val.append(mean_squared_error(y_val, validation_predictions))"
      ],
      "outputs": [
        {
          "output_type": "stream",
          "name": "stdout",
          "text": [
            "CPU times: user 49.4 s, sys: 445 ms, total: 49.8 s\n",
            "Wall time: 49.6 s\n"
          ]
        }
      ],
      "metadata": {
        "colab": {
          "base_uri": "https://localhost:8080/"
        },
        "id": "R7z_HziWavj7",
        "outputId": "5946040d-d068-47d2-acd8-66a99dbe37a0"
      }
    },
    {
      "cell_type": "code",
      "execution_count": 296,
      "source": [
        "x_range_values = [i for i in range(len(models))]\n",
        "\n",
        "figure = plt.figure(figsize=[15, 5])\n",
        "plt.subplot(1, 2, 1)\n",
        "sns.lineplot(x=x_range_values, y=r_squared_train, color='blue')\n",
        "sns.lineplot(x=x_range_values, y=r_squared_val, color='red')\n",
        "plt.xticks(ticks=x_range_values, labels=model_names, rotation=35)\n",
        "plt.xlabel(xlabel='Models', size=12)\n",
        "plt.ylabel(ylabel='Scores', size=12)\n",
        "plt.title(label='Scores (Train vs Test)', size=14)\n",
        "plt.grid(b=True)\n",
        "\n",
        "plt.subplot(1, 2, 2)\n",
        "sns.lineplot(x=x_range_values, y=mse_train, color='blue')\n",
        "sns.lineplot(x=x_range_values, y=mse_val, color='red')\n",
        "plt.xticks(ticks=x_range_values, labels=model_names, rotation=35)\n",
        "plt.xlabel(xlabel='Models', size=12)\n",
        "plt.ylabel(ylabel='MSE', size=12)\n",
        "plt.title(label='MSE (Train vs Test)', size=14)\n",
        "plt.grid(b=True)\n",
        "plt.show()"
      ],
      "outputs": [
        {
          "output_type": "display_data",
          "data": {
            "image/png": "[encoded data removed]",
            "text/plain": [
              "<Figure size 1080x360 with 2 Axes>"
            ]
          },
          "metadata": {
            "needs_background": "light"
          }
        }
      ],
      "metadata": {
        "colab": {
          "base_uri": "https://localhost:8080/",
          "height": 430
        },
        "id": "5bGJIoznbKRj",
        "outputId": "f11cfa2f-3649-46b1-aa46-9089f2afa0fe"
      }
    },
    {
      "cell_type": "markdown",
      "source": [
        "<a name = Section9></a>\n",
        "\n",
        "---\n",
        "# **9. Summarization**\n",
        "---"
      ],
      "metadata": {
        "id": "rf2a0qGTTqAG"
      }
    },
    {
      "cell_type": "markdown",
      "source": [
        "<a name = Section91></a>\n",
        "### **9.1 Conclusion**\n",
        "\n",
        "\n",
        "- We analyzed and understood the behavior of the data and performed manipulations accordingly.\n",
        "\n",
        "- We didn't go through the data analysis in-depth as the use case was associated with identifying the best model for future data.\n",
        "\n",
        "- We performed various transformations over the features as per the requirement and tried out several machine models.\n",
        "\n",
        "- It turns out that the models are not working as per expectations and the max accuracy achieved by them is around 60%.\n"
      ],
      "metadata": {
        "id": "cdzAYvqNMzpP"
      }
    },
    {
      "cell_type": "markdown",
      "source": [
        "<a name = Section92></a>\n",
        "### **9.2 Actionable Insights**\n",
        "\n",
        "- The company should focus on existing customers more that the new customers.\n",
        "\n",
        "- The company should analyze what the competitors offer and learn new techniques, thinking of ways to outdo them.\n",
        "\n",
        "-  The promotions and marketing can give the customers a great deal of existence of the products or services in the market.\n",
        "\n",
        "- Credibility is the one of the key factors that makes the customers trust and feel comfortable with your products and services."
      ],
      "metadata": {
        "id": "tXMpbiOgM1WY"
      }
    }
  ]
}