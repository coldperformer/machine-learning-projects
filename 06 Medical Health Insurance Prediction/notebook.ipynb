{
  "cells": [
    {
      "cell_type": "markdown",
      "metadata": {
        "id": "6Mnhc56GZfmR"
      },
      "source": [
        ">**Developer:** Mukesh Kumar\n",
        "\n",
        ">**Email:** coldperformer@gmail.com\n",
        "\n",
        ">**LinkedIn:** https://www.linkedin.com/in/mk09/"
      ]
    },
    {
      "cell_type": "markdown",
      "metadata": {
        "id": "YdVgr1-aZihs"
      },
      "source": [
        "---\n",
        "# **Table of Contents**\n",
        "---\n",
        "\n",
        "**1.** [**Introduction**](#Section1)<br>\n",
        "**2.** [**Problem Statement**](#Section2)<br>\n",
        "**3.** [**Installing & Importing Libraries**](#Section3)<br>\n",
        "  - **3.1** [**Installing Libraries**](#Section31)\n",
        "  - **3.2** [**Upgrading Libraries**](#Section32)\n",
        "  - **3.3** [**Importing Libraries**](#Section33)\n",
        "\n",
        "**4.** [**Data Acquisition & Description**](#Section4)<br>\n",
        "  - **4.1** [**Data Description**](#Section41)\n",
        "  - **4.2** [**Data Information**](#Section42)\n",
        "\n",
        "**5.** [**Data Pre-processing**](#Section5)<br>\n",
        "  - **5.1** [**Pre-Profiling Report**](#Section51)<br>\n",
        "\n",
        "**6.** [**Exploratory Data Analysis**](#Section6)<br>\n",
        "**7.** [**Data Post-Processing**](#Section7)<br>\n",
        "**8.** [**Model Development & Evaluation**](#Section8)<br>\n",
        "**9.** [**Conclusion**](#Section9)<br>"
      ]
    },
    {
      "cell_type": "markdown",
      "metadata": {
        "id": "LvwK1yHrZ0f5"
      },
      "source": [
        "---\n",
        "<a name = Section1></a>\n",
        "# **1. Introduction**\n",
        "---\n",
        "\n",
        "- **Health insurance** is a **necessity** nowadays, and almost every individual has a link with a government or private health insurance company. \n",
        "- Factors determining the amount of insurance vary from company to company. \n",
        "- Also, **people** in **rural areas** are **unaware** that the government of India provides **free health insurance** to those who are **below** the **poverty line**. \n",
        "- It is a very complex method, and some rural people either buy some private health insurance or do not invest money in health insurance at all. \n",
        "- Apart from this, people can be fooled easily about the amount of the insurance and may unnecessarily buy some expensive health insurance."
      ]
    },
    {
      "cell_type": "markdown",
      "metadata": {
        "id": "z-SF3dcRaV14"
      },
      "source": [
        "---\n",
        "<a name = Section2></a>\n",
        "# **2. Problem Statement**\n",
        "---\n",
        "\n",
        "- Every year, people pay a premium of a **certain amount** to insurance providers to get **aid in the time of need**.\n",
        "\n",
        "- In case of an **unfortunate incident**, the insurance providers provide **compensation** (called \"sum assured\") to the customer.\n",
        "\n",
        "- Company can utilize the benefits of a model that **predicts** whether a **customer** would be **interested** in **medical insurance** or not.\n",
        "\n",
        "- Then, the company can **plan** its **communication strategy** to reach out to those customers and **optimize** its **business model** and **revenue**.\n",
        "\n",
        "<center><img src=\"https://gitlab.com/coldperformer/multimedia/-/raw/main/machine-learning-projects/Images/04-medical-health-insurance-problem.jpg?inline=false\"></center>\n",
        "\n",
        "\n",
        "**<h4>Scenario:</h4>**\n",
        "\n",
        "- The objective of medical health insurance prediction is to give people an **idea of the necessity** of the amount required in need.\n",
        "\n",
        "- Later, they can comply with any health insurance company and their schemes & benefits by keeping in mind the predicted amount from our project. \n",
        "\n",
        "- This can **help** a person **focus more on the health** aspect of insurance rather than the futile part.\n"
      ]
    },
    {
      "cell_type": "markdown",
      "metadata": {
        "id": "k5T9XBDAaikg"
      },
      "source": [
        "---\n",
        "<a name = Section3></a>\n",
        "# **3. Installing & Importing Libraries**\n",
        "---"
      ]
    },
    {
      "cell_type": "markdown",
      "metadata": {
        "id": "drocKDJ2amBg"
      },
      "source": [
        "<a name = Section31></a>\n",
        "### **3.1 Installing & Upgrading Libraries**"
      ]
    },
    {
      "cell_type": "code",
      "execution_count": null,
      "metadata": {
        "id": "OnkW7DSeZRWB"
      },
      "outputs": [],
      "source": [
        "!pip install -q --upgrade datascience                               # Package that is required by pandas profiling\n",
        "!pip install -q --upgrade pandas-profiling                          # Library to generate basic statistics about data"
      ]
    },
    {
      "cell_type": "markdown",
      "metadata": {
        "id": "2Kfl3PunatnY"
      },
      "source": [
        "<a name = Section32></a>\n",
        "### **3.2 Importing Libraries**"
      ]
    },
    {
      "cell_type": "code",
      "execution_count": 1,
      "metadata": {
        "id": "bl9dW2NRaom8"
      },
      "outputs": [],
      "source": [
        "#-------------------------------------------------------------------------------------------------------------------------------\n",
        "import pandas as pd                                                 # Importing for panel data analysis\n",
        "from pandas_profiling import ProfileReport                          # Import Pandas Profiling (To generate Univariate Analysis) \n",
        "pd.set_option('display.max_columns', None)                          # Unfolding hidden features if the cardinality is high      \n",
        "pd.set_option('display.max_colwidth', None)                         # Unfolding the max feature width for better clearity      \n",
        "pd.set_option('display.max_rows', None)                             # Unfolding hidden data points if the cardinality is high\n",
        "pd.set_option('mode.chained_assignment', None)                      # Removing restriction over chained assignments operations\n",
        "pd.set_option('display.float_format', lambda x: '%.2f' % x)         # To suppress scientific notation over exponential values\n",
        "#-------------------------------------------------------------------------------------------------------------------------------\n",
        "import numpy as np                                                  # Importing package numpys (For Numerical Python)\n",
        "#-------------------------------------------------------------------------------------------------------------------------------\n",
        "import matplotlib.pyplot as plt                                     # Importing pyplot interface using matplotlib\n",
        "import seaborn as sns                                               # Importin seaborm library for interactive visualization\n",
        "%matplotlib inline\n",
        "#-------------------------------------------------------------------------------------------------------------------------------\n",
        "from powerbiclient import Report                                    # To load Power BI reports in the notebook\n",
        "from powerbiclient.authentication import DeviceCodeLoginAuthentication # To authenticate Power BI MS Azure CLI\n",
        "#-------------------------------------------------------------------------------------------------------------------------------\n",
        "from sklearn.preprocessing import StandardScaler                    # To sccale input features of the model\n",
        "from sklearn.model_selection import train_test_split                # To split the data in training and testing part\n",
        "from sklearn.linear_model import LinearRegression                   # To develop linear regression model\n",
        "from sklearn.linear_model import SGDRegressor                       # To develop stochastic gradient regression model\n",
        "from sklearn.ensemble import RandomForestRegressor                  # To develop random forest regrssion model\n",
        "#-------------------------------------------------------------------------------------------------------------------------------\n",
        "import warnings                                                     # Importing warning to disable runtime warnings\n",
        "warnings.filterwarnings(\"ignore\")                                   # Warnings will appear only once"
      ]
    },
    {
      "cell_type": "markdown",
      "metadata": {
        "id": "17HjjOUVa2BR"
      },
      "source": [
        "---\n",
        "<a name = Section4></a>\n",
        "# **4. Data Acquisition & Description**\n",
        "---\n",
        "\n",
        "- The dataset is based on the medical health insurance of the people collected from the web.\n",
        "\n",
        "</br>\n",
        "\n",
        "| Records | Features | Dataset Size |\n",
        "| :-- | :-- | :-- |\n",
        "| 1338 | 7 | 54.3 KB| \n",
        "\n",
        "</br>\n",
        "\n",
        "| Id | Features | Description |\n",
        "| :-- | :--| :--| \n",
        "|01|**age**|Age of the person.|\n",
        "|02|**sex**|Gender of the person.|\n",
        "|03|**bmi**|Body mass index of the person.|\n",
        "|04|**children**|Number of childern the person is having.|\n",
        "|05|**smoker**|Wheather person is a smoker or not.|\n",
        "|06|**region**|Region where person is living.|\n",
        "|07|**charges**|Charges for the medical health insurance.|"
      ]
    },
    {
      "cell_type": "code",
      "execution_count": 2,
      "metadata": {
        "colab": {
          "base_uri": "https://localhost:8080/",
          "height": 221
        },
        "id": "cCg5kJuvaokI",
        "outputId": "9294f268-295b-4525-cfd4-a15bc040340c"
      },
      "outputs": [
        {
          "name": "stdout",
          "output_type": "stream",
          "text": [
            "Data Shape: (1338, 7)\n"
          ]
        },
        {
          "data": {
            "text/html": [
              "<div>\n",
              "<style scoped>\n",
              "    .dataframe tbody tr th:only-of-type {\n",
              "        vertical-align: middle;\n",
              "    }\n",
              "\n",
              "    .dataframe tbody tr th {\n",
              "        vertical-align: top;\n",
              "    }\n",
              "\n",
              "    .dataframe thead th {\n",
              "        text-align: right;\n",
              "    }\n",
              "</style>\n",
              "<table border=\"1\" class=\"dataframe\">\n",
              "  <thead>\n",
              "    <tr style=\"text-align: right;\">\n",
              "      <th></th>\n",
              "      <th>age</th>\n",
              "      <th>sex</th>\n",
              "      <th>bmi</th>\n",
              "      <th>children</th>\n",
              "      <th>smoker</th>\n",
              "      <th>region</th>\n",
              "      <th>charges</th>\n",
              "    </tr>\n",
              "  </thead>\n",
              "  <tbody>\n",
              "    <tr>\n",
              "      <th>0</th>\n",
              "      <td>19</td>\n",
              "      <td>female</td>\n",
              "      <td>27.90</td>\n",
              "      <td>0</td>\n",
              "      <td>yes</td>\n",
              "      <td>southwest</td>\n",
              "      <td>16884.92</td>\n",
              "    </tr>\n",
              "    <tr>\n",
              "      <th>1</th>\n",
              "      <td>18</td>\n",
              "      <td>male</td>\n",
              "      <td>33.77</td>\n",
              "      <td>1</td>\n",
              "      <td>no</td>\n",
              "      <td>southeast</td>\n",
              "      <td>1725.55</td>\n",
              "    </tr>\n",
              "    <tr>\n",
              "      <th>2</th>\n",
              "      <td>28</td>\n",
              "      <td>male</td>\n",
              "      <td>33.00</td>\n",
              "      <td>3</td>\n",
              "      <td>no</td>\n",
              "      <td>southeast</td>\n",
              "      <td>4449.46</td>\n",
              "    </tr>\n",
              "    <tr>\n",
              "      <th>3</th>\n",
              "      <td>33</td>\n",
              "      <td>male</td>\n",
              "      <td>22.70</td>\n",
              "      <td>0</td>\n",
              "      <td>no</td>\n",
              "      <td>northwest</td>\n",
              "      <td>21984.47</td>\n",
              "    </tr>\n",
              "    <tr>\n",
              "      <th>4</th>\n",
              "      <td>32</td>\n",
              "      <td>male</td>\n",
              "      <td>28.88</td>\n",
              "      <td>0</td>\n",
              "      <td>no</td>\n",
              "      <td>northwest</td>\n",
              "      <td>3866.86</td>\n",
              "    </tr>\n",
              "  </tbody>\n",
              "</table>\n",
              "</div>"
            ],
            "text/plain": [
              "   age     sex   bmi  children smoker     region  charges\n",
              "0   19  female 27.90         0    yes  southwest 16884.92\n",
              "1   18    male 33.77         1     no  southeast  1725.55\n",
              "2   28    male 33.00         3     no  southeast  4449.46\n",
              "3   33    male 22.70         0     no  northwest 21984.47\n",
              "4   32    male 28.88         0     no  northwest  3866.86"
            ]
          },
          "execution_count": 2,
          "metadata": {},
          "output_type": "execute_result"
        }
      ],
      "source": [
        "data = pd.read_csv(filepath_or_buffer='https://gitlab.com/coldperformer/multimedia/-/raw/main/machine-learning-projects/data/08-medical-health-insurance.csv')\n",
        "print('Data Shape:', data.shape)\n",
        "data.head()"
      ]
    },
    {
      "cell_type": "markdown",
      "metadata": {
        "id": "jTHzKhlGbZN5"
      },
      "source": [
        "<a name = Section41></a>\n",
        "### **4.1 Data Description**\n",
        "\n",
        "- In this section we will get **information about the data** and see some observations."
      ]
    },
    {
      "cell_type": "code",
      "execution_count": null,
      "metadata": {
        "colab": {
          "base_uri": "https://localhost:8080/",
          "height": 297
        },
        "id": "5WOdH51iaobL",
        "outputId": "75955aff-8ca5-471a-8057-600faae53ca9"
      },
      "outputs": [
        {
          "data": {
            "text/html": [
              "<div>\n",
              "<style scoped>\n",
              "    .dataframe tbody tr th:only-of-type {\n",
              "        vertical-align: middle;\n",
              "    }\n",
              "\n",
              "    .dataframe tbody tr th {\n",
              "        vertical-align: top;\n",
              "    }\n",
              "\n",
              "    .dataframe thead th {\n",
              "        text-align: right;\n",
              "    }\n",
              "</style>\n",
              "<table border=\"1\" class=\"dataframe\">\n",
              "  <thead>\n",
              "    <tr style=\"text-align: right;\">\n",
              "      <th></th>\n",
              "      <th>age</th>\n",
              "      <th>bmi</th>\n",
              "      <th>children</th>\n",
              "      <th>charges</th>\n",
              "    </tr>\n",
              "  </thead>\n",
              "  <tbody>\n",
              "    <tr>\n",
              "      <th>count</th>\n",
              "      <td>1338.00</td>\n",
              "      <td>1338.00</td>\n",
              "      <td>1338.00</td>\n",
              "      <td>1338.00</td>\n",
              "    </tr>\n",
              "    <tr>\n",
              "      <th>mean</th>\n",
              "      <td>39.21</td>\n",
              "      <td>30.66</td>\n",
              "      <td>1.09</td>\n",
              "      <td>13270.42</td>\n",
              "    </tr>\n",
              "    <tr>\n",
              "      <th>std</th>\n",
              "      <td>14.05</td>\n",
              "      <td>6.10</td>\n",
              "      <td>1.21</td>\n",
              "      <td>12110.01</td>\n",
              "    </tr>\n",
              "    <tr>\n",
              "      <th>min</th>\n",
              "      <td>18.00</td>\n",
              "      <td>15.96</td>\n",
              "      <td>0.00</td>\n",
              "      <td>1121.87</td>\n",
              "    </tr>\n",
              "    <tr>\n",
              "      <th>25%</th>\n",
              "      <td>27.00</td>\n",
              "      <td>26.30</td>\n",
              "      <td>0.00</td>\n",
              "      <td>4740.29</td>\n",
              "    </tr>\n",
              "    <tr>\n",
              "      <th>50%</th>\n",
              "      <td>39.00</td>\n",
              "      <td>30.40</td>\n",
              "      <td>1.00</td>\n",
              "      <td>9382.03</td>\n",
              "    </tr>\n",
              "    <tr>\n",
              "      <th>75%</th>\n",
              "      <td>51.00</td>\n",
              "      <td>34.69</td>\n",
              "      <td>2.00</td>\n",
              "      <td>16639.91</td>\n",
              "    </tr>\n",
              "    <tr>\n",
              "      <th>max</th>\n",
              "      <td>64.00</td>\n",
              "      <td>53.13</td>\n",
              "      <td>5.00</td>\n",
              "      <td>63770.43</td>\n",
              "    </tr>\n",
              "  </tbody>\n",
              "</table>\n",
              "</div>"
            ],
            "text/plain": [
              "          age     bmi  children  charges\n",
              "count 1338.00 1338.00   1338.00  1338.00\n",
              "mean    39.21   30.66      1.09 13270.42\n",
              "std     14.05    6.10      1.21 12110.01\n",
              "min     18.00   15.96      0.00  1121.87\n",
              "25%     27.00   26.30      0.00  4740.29\n",
              "50%     39.00   30.40      1.00  9382.03\n",
              "75%     51.00   34.69      2.00 16639.91\n",
              "max     64.00   53.13      5.00 63770.43"
            ]
          },
          "execution_count": 61,
          "metadata": {},
          "output_type": "execute_result"
        }
      ],
      "source": [
        "data.describe()"
      ]
    },
    {
      "cell_type": "markdown",
      "metadata": {
        "id": "Rtvu33c3beIA"
      },
      "source": [
        "**Observations:**\n",
        "\n",
        "- The average age of people is 39 years.\n",
        "- 25% of the people have an age less than equal to 27 years.\n",
        "- 50% of the people have an age less than equal to 39 years.\n",
        "- 75% of the people have an age less than equal to 51 years.\n",
        "- The average BMI of people is 30.66 kg/m2.\n",
        "- 25% of people have a BMI less than equal to 26.30 kg/m2.\n",
        "- 50% of people have a BMI less than equal to 30.40 kg/m2.\n",
        "- 75% of people have a BMI less than equal to 34.69 kg/m2.\n",
        "- The average number of children people have is 1.\n",
        "- 25% of people have 0 children.\n",
        "- 50% of people have at a max of 1 child.\n",
        "- 75% of people have at a max of 2 children.\n",
        "- The average amount charged from people is Rs. 13270.\n",
        "- 25% of people have been charged with Rs. 4740.29.\n",
        "- 50% of people have been charged with Rs. 9382.03.\n",
        "- 75% of people have been charged with Rs. 16639.91."
      ]
    },
    {
      "cell_type": "markdown",
      "metadata": {
        "id": "S5mvRKbpbjSq"
      },
      "source": [
        "<a name = Section42></a>\n",
        "### **4.2 Data Information**\n",
        "\n",
        "- In this section we will see the **information about the types of features**."
      ]
    },
    {
      "cell_type": "code",
      "execution_count": null,
      "metadata": {
        "colab": {
          "base_uri": "https://localhost:8080/"
        },
        "id": "qqCFCElYbaZ7",
        "outputId": "bd85edc5-d088-4e2f-91f1-da3a9458b6fd"
      },
      "outputs": [
        {
          "name": "stdout",
          "output_type": "stream",
          "text": [
            "<class 'pandas.core.frame.DataFrame'>\n",
            "RangeIndex: 1338 entries, 0 to 1337\n",
            "Data columns (total 7 columns):\n",
            " #   Column    Non-Null Count  Dtype  \n",
            "---  ------    --------------  -----  \n",
            " 0   age       1338 non-null   int64  \n",
            " 1   sex       1338 non-null   object \n",
            " 2   bmi       1338 non-null   float64\n",
            " 3   children  1338 non-null   int64  \n",
            " 4   smoker    1338 non-null   object \n",
            " 5   region    1338 non-null   object \n",
            " 6   charges   1338 non-null   float64\n",
            "dtypes: float64(2), int64(2), object(3)\n",
            "memory usage: 73.3+ KB\n"
          ]
        }
      ],
      "source": [
        "data.info()"
      ]
    },
    {
      "cell_type": "markdown",
      "metadata": {
        "id": "foPoveMhbkew"
      },
      "source": [
        "**Observations:**\n",
        "\n",
        "- We can observe that there are **no null values and inconsistencies** in the dataset."
      ]
    },
    {
      "cell_type": "markdown",
      "metadata": {
        "id": "RIhLwaKObmSw"
      },
      "source": [
        "<a name = Section5></a>\n",
        "\n",
        "---\n",
        "# **5. Data Pre-Processing**\n",
        "---"
      ]
    },
    {
      "cell_type": "markdown",
      "metadata": {
        "id": "qqPyw_4ubnuh"
      },
      "source": [
        "<a name = Section51></a>\n",
        "### **5.1 Pre Profiling Report**\n",
        "\n",
        "- For **quick analysis** pandas profiling is very handy.\n",
        "\n",
        "- Generates profile reports from a pandas DataFrame.\n",
        "\n",
        "- For each column **statistics** are presented in an interactive HTML report."
      ]
    },
    {
      "cell_type": "code",
      "execution_count": null,
      "metadata": {
        "id": "ZxzDuAo5baXU"
      },
      "outputs": [],
      "source": [
        "# profile = ProfileReport(df=data)\n",
        "# profile.to_file(output_file='Pre Profiling Report.html')"
      ]
    },
    {
      "cell_type": "markdown",
      "metadata": {
        "id": "ylhgM1C4br1B"
      },
      "source": [
        "**Observations:**\n",
        "\n",
        "- The report shows that there are **overall 7 features**, out of which **4 are numeral**, **2 are categorical** types, and 1 boolean type.\n",
        "\n",
        "- There is **one duplicate row** in the dataset.\n",
        "\n",
        "- **age** is **highly correlated** with **charges**.\n",
        "\n",
        "- **smoker** is **highly correlated** with **charges**.\n",
        "\n",
        "- **children** feature has **574 (42.9%) zeros**."
      ]
    },
    {
      "cell_type": "markdown",
      "metadata": {
        "id": "9LDQHMs4bw-H"
      },
      "source": [
        "**Performing Operations**"
      ]
    },
    {
      "cell_type": "code",
      "execution_count": 5,
      "metadata": {
        "id": "AmKxxW6xbaVR"
      },
      "outputs": [],
      "source": [
        "data.drop_duplicates(inplace=True)\n",
        "data.to_csv('health_insurance_cleaned.csv', index=False)"
      ]
    },
    {
      "cell_type": "markdown",
      "metadata": {
        "id": "ncoTDlnRb41I"
      },
      "source": [
        "<a name = Section6></a>\n",
        "\n",
        "---\n",
        "# **6. Exploratory Data Analysis**\n",
        "---"
      ]
    },
    {
      "cell_type": "markdown",
      "metadata": {
        "id": "Kq0DIG-FOJV_"
      },
      "source": [
        "**Note:**\n",
        "\n",
        "- Results of the following report might not be visible becuase of the rendering constraints.\n",
        "- So, it is recommended to use local system instead of online services to run the jupyter notebook.\n",
        "- To view the results, kindly upload the attached <a href=\"https://gitlab.com/coldperformer/power-bi-collection/-/raw/main/02-medical-health-insurance.pbix\">power bi report</a> to your personal workspace.\n",
        "- Replace your report's group_id and report_id in the following variables and authenticate your connection."
      ]
    },
    {
      "cell_type": "code",
      "execution_count": 2,
      "metadata": {
        "id": "H9rxpC4AbaST"
      },
      "outputs": [
        {
          "name": "stdout",
          "output_type": "stream",
          "text": [
            "Performing interactive authentication. Please follow the instructions on the terminal.\n",
            " To sign in, use a web browser to open the page https://microsoft.com/devicelogin and enter the code SAG8CXP55 to authenticate.\n",
            "You have logged in.\n",
            "Interactive authentication successfully completed.\n"
          ]
        }
      ],
      "source": [
        "# Initiate device authentication: redirect to the \n",
        "device_auth = DeviceCodeLoginAuthentication()\n",
        "\n",
        "group_id = \"799d8379-dda6-4ea6-90a4-82a96f1d82c6\"\n",
        "report_id = \"3ea69c36-772c-4844-b642-0e4969de3b55\""
      ]
    },
    {
      "cell_type": "code",
      "execution_count": 3,
      "metadata": {},
      "outputs": [
        {
          "data": {
            "application/vnd.jupyter.widget-view+json": {
              "model_id": "b214cb48da79442b8c3d0cf51e6aad1b",
              "version_major": 2,
              "version_minor": 0
            },
            "text/plain": [
              "Report()"
            ]
          },
          "metadata": {},
          "output_type": "display_data"
        }
      ],
      "source": [
        "report = Report(group_id=group_id, report_id=report_id, auth=device_auth)\n",
        "report"
      ]
    },
    {
      "cell_type": "markdown",
      "metadata": {
        "id": "dAcB7RiTcrYf"
      },
      "source": [
        "<a name = Section7></a>\n",
        "\n",
        "---\n",
        "# **7. Data Post-Processing**\n",
        "---"
      ]
    },
    {
      "cell_type": "markdown",
      "metadata": {
        "id": "RQeIy3z6dIKQ"
      },
      "source": [
        "<a name = Section71></a>\n",
        "### **7.1 Feature Encoding**\n",
        "\n",
        "- In this section, we will perform **transformation** over categorical features to get numeric form.\n",
        "\n",
        "- In the dataset, we have only age, smoker, and region as categorical features.\n",
        "\n",
        "- We will apply dummification over these features."
      ]
    },
    {
      "cell_type": "code",
      "execution_count": null,
      "metadata": {
        "colab": {
          "base_uri": "https://localhost:8080/",
          "height": 204
        },
        "id": "g6lK0ejMbaPA",
        "outputId": "3b13ccaf-8403-4651-d8d0-9064245cbac2"
      },
      "outputs": [
        {
          "data": {
            "text/html": [
              "<div>\n",
              "<style scoped>\n",
              "    .dataframe tbody tr th:only-of-type {\n",
              "        vertical-align: middle;\n",
              "    }\n",
              "\n",
              "    .dataframe tbody tr th {\n",
              "        vertical-align: top;\n",
              "    }\n",
              "\n",
              "    .dataframe thead th {\n",
              "        text-align: right;\n",
              "    }\n",
              "</style>\n",
              "<table border=\"1\" class=\"dataframe\">\n",
              "  <thead>\n",
              "    <tr style=\"text-align: right;\">\n",
              "      <th></th>\n",
              "      <th>age</th>\n",
              "      <th>bmi</th>\n",
              "      <th>children</th>\n",
              "      <th>charges</th>\n",
              "      <th>sex_female</th>\n",
              "      <th>sex_male</th>\n",
              "      <th>region_northeast</th>\n",
              "      <th>region_northwest</th>\n",
              "      <th>region_southeast</th>\n",
              "      <th>region_southwest</th>\n",
              "      <th>smoker_no</th>\n",
              "      <th>smoker_yes</th>\n",
              "    </tr>\n",
              "  </thead>\n",
              "  <tbody>\n",
              "    <tr>\n",
              "      <th>0</th>\n",
              "      <td>19</td>\n",
              "      <td>27.90</td>\n",
              "      <td>0</td>\n",
              "      <td>16884.92</td>\n",
              "      <td>1</td>\n",
              "      <td>0</td>\n",
              "      <td>0</td>\n",
              "      <td>0</td>\n",
              "      <td>0</td>\n",
              "      <td>1</td>\n",
              "      <td>0</td>\n",
              "      <td>1</td>\n",
              "    </tr>\n",
              "    <tr>\n",
              "      <th>1</th>\n",
              "      <td>18</td>\n",
              "      <td>33.77</td>\n",
              "      <td>1</td>\n",
              "      <td>1725.55</td>\n",
              "      <td>0</td>\n",
              "      <td>1</td>\n",
              "      <td>0</td>\n",
              "      <td>0</td>\n",
              "      <td>1</td>\n",
              "      <td>0</td>\n",
              "      <td>1</td>\n",
              "      <td>0</td>\n",
              "    </tr>\n",
              "    <tr>\n",
              "      <th>2</th>\n",
              "      <td>28</td>\n",
              "      <td>33.00</td>\n",
              "      <td>3</td>\n",
              "      <td>4449.46</td>\n",
              "      <td>0</td>\n",
              "      <td>1</td>\n",
              "      <td>0</td>\n",
              "      <td>0</td>\n",
              "      <td>1</td>\n",
              "      <td>0</td>\n",
              "      <td>1</td>\n",
              "      <td>0</td>\n",
              "    </tr>\n",
              "    <tr>\n",
              "      <th>3</th>\n",
              "      <td>33</td>\n",
              "      <td>22.70</td>\n",
              "      <td>0</td>\n",
              "      <td>21984.47</td>\n",
              "      <td>0</td>\n",
              "      <td>1</td>\n",
              "      <td>0</td>\n",
              "      <td>1</td>\n",
              "      <td>0</td>\n",
              "      <td>0</td>\n",
              "      <td>1</td>\n",
              "      <td>0</td>\n",
              "    </tr>\n",
              "    <tr>\n",
              "      <th>4</th>\n",
              "      <td>32</td>\n",
              "      <td>28.88</td>\n",
              "      <td>0</td>\n",
              "      <td>3866.86</td>\n",
              "      <td>0</td>\n",
              "      <td>1</td>\n",
              "      <td>0</td>\n",
              "      <td>1</td>\n",
              "      <td>0</td>\n",
              "      <td>0</td>\n",
              "      <td>1</td>\n",
              "      <td>0</td>\n",
              "    </tr>\n",
              "  </tbody>\n",
              "</table>\n",
              "</div>"
            ],
            "text/plain": [
              "   age   bmi  children  charges  sex_female  sex_male  region_northeast  \\\n",
              "0   19 27.90         0 16884.92           1         0                 0   \n",
              "1   18 33.77         1  1725.55           0         1                 0   \n",
              "2   28 33.00         3  4449.46           0         1                 0   \n",
              "3   33 22.70         0 21984.47           0         1                 0   \n",
              "4   32 28.88         0  3866.86           0         1                 0   \n",
              "\n",
              "   region_northwest  region_southeast  region_southwest  smoker_no  smoker_yes  \n",
              "0                 0                 0                 1          0           1  \n",
              "1                 0                 1                 0          1           0  \n",
              "2                 0                 1                 0          1           0  \n",
              "3                 1                 0                 0          1           0  \n",
              "4                 1                 0                 0          1           0  "
            ]
          },
          "execution_count": 66,
          "metadata": {},
          "output_type": "execute_result"
        }
      ],
      "source": [
        "data = pd.get_dummies(data=data, columns=['sex', 'region', 'smoker'])\n",
        "data.head()"
      ]
    },
    {
      "cell_type": "markdown",
      "metadata": {
        "id": "GJMT9gmrVWeH"
      },
      "source": [
        "<a name = Section72></a>\n",
        "### **7.2 Feature Extraction**\n",
        "\n",
        "- In this section, we will create a new feature that will aid us in peforming stratification over the data."
      ]
    },
    {
      "cell_type": "code",
      "execution_count": null,
      "metadata": {
        "colab": {
          "base_uri": "https://localhost:8080/",
          "height": 334
        },
        "id": "BED7zK-UP_kn",
        "outputId": "86a035ba-52ce-4e67-e2b1-83c0f5d7f800"
      },
      "outputs": [
        {
          "data": {
            "image/png": "[encoded data removed]",
            "text/plain": [
              "<Figure size 1080x360 with 1 Axes>"
            ]
          },
          "metadata": {
            "needs_background": "light"
          },
          "output_type": "display_data"
        }
      ],
      "source": [
        "plt.figure(figsize=[15, 5])\n",
        "sns.histplot(data=data, x=y)\n",
        "plt.show()"
      ]
    },
    {
      "cell_type": "code",
      "execution_count": null,
      "metadata": {
        "colab": {
          "base_uri": "https://localhost:8080/",
          "height": 320
        },
        "id": "2d72A0_gTR5A",
        "outputId": "0f9ca667-823a-47dd-9fa3-775098c24dba"
      },
      "outputs": [
        {
          "data": {
            "image/png": "[encoded data removed]",
            "text/plain": [
              "<Figure size 1080x360 with 1 Axes>"
            ]
          },
          "metadata": {
            "needs_background": "light"
          },
          "output_type": "display_data"
        }
      ],
      "source": [
        "bins = [-np.inf, \n",
        "        data['charges'].quantile(0.33), \n",
        "        data['charges'].quantile(0.66), \n",
        "        np.inf]\n",
        "\n",
        "data['charge_type'] = pd.cut(x=data['charges'], \n",
        "                             bins=bins, \n",
        "                             labels=['Low', 'Medium', 'High'],\n",
        "                             right=True)\n",
        "\n",
        "plt.figure(figsize=[15, 5])\n",
        "sns.barplot(data=data, x=data.index, y='charge_type', )\n",
        "plt.show()"
      ]
    },
    {
      "cell_type": "markdown",
      "metadata": {
        "id": "IQrdHcqBgvHJ"
      },
      "source": [
        "<a name = Section73></a>\n",
        "### **7.3 Feature Scaling**\n",
        "\n",
        "- In this section, we will perform standardization over the features that may impact the outcome of models."
      ]
    },
    {
      "cell_type": "code",
      "execution_count": null,
      "metadata": {
        "id": "vHdxyGC2gqvC"
      },
      "outputs": [],
      "source": [
        "scaler = StandardScaler()\n",
        "X_scaled = scaler.fit_transform(data.drop(labels=['charges', 'charge_type'], axis=1))\n",
        "y = data['charges']"
      ]
    },
    {
      "cell_type": "markdown",
      "metadata": {
        "id": "aHC_XfX7g_WZ"
      },
      "source": [
        "<a name = Section74></a>\n",
        "### **7.4 Data Preparation**\n",
        "\n",
        "- Now we will **split** our **data** in **training** and **testing** part for further development."
      ]
    },
    {
      "cell_type": "code",
      "execution_count": null,
      "metadata": {
        "colab": {
          "base_uri": "https://localhost:8080/"
        },
        "id": "ATpzPPfsgqrO",
        "outputId": "23794759-46cd-4b40-f3c9-2c9cfe85ce8d"
      },
      "outputs": [
        {
          "name": "stdout",
          "output_type": "stream",
          "text": [
            "Training Data Shape: (1203, 11) (1203,)\n",
            "Testing Data Shape: (134, 11) (134,)\n"
          ]
        }
      ],
      "source": [
        "X_train, X_test, y_train, y_test = train_test_split(X_scaled, y, test_size=0.1, random_state=42, stratify=data['charge_type'])\n",
        "\n",
        "print('Training Data Shape:', X_train.shape, y_train.shape)\n",
        "print('Testing Data Shape:', X_test.shape, y_test.shape)"
      ]
    },
    {
      "cell_type": "markdown",
      "metadata": {
        "id": "coaGUA33hDGK"
      },
      "source": [
        "<a name = Section8></a>\n",
        "\n",
        "---\n",
        "# **8. Model Development & Evaluation**\n",
        "---\n",
        "\n",
        "- In this section we will develop variety of models such as -----------"
      ]
    },
    {
      "cell_type": "code",
      "execution_count": null,
      "metadata": {
        "colab": {
          "base_uri": "https://localhost:8080/",
          "height": 142
        },
        "id": "xo7vAWKOdFhp",
        "outputId": "08bed846-0728-466c-c3ee-f6cd9396bf5c"
      },
      "outputs": [
        {
          "data": {
            "text/html": [
              "<div>\n",
              "<style scoped>\n",
              "    .dataframe tbody tr th:only-of-type {\n",
              "        vertical-align: middle;\n",
              "    }\n",
              "\n",
              "    .dataframe tbody tr th {\n",
              "        vertical-align: top;\n",
              "    }\n",
              "\n",
              "    .dataframe thead th {\n",
              "        text-align: right;\n",
              "    }\n",
              "</style>\n",
              "<table border=\"1\" class=\"dataframe\">\n",
              "  <thead>\n",
              "    <tr style=\"text-align: right;\">\n",
              "      <th></th>\n",
              "      <th>R^Squared (Train)</th>\n",
              "      <th>R^Squared (Test)</th>\n",
              "    </tr>\n",
              "  </thead>\n",
              "  <tbody>\n",
              "    <tr>\n",
              "      <th>LinearRegression</th>\n",
              "      <td>0.76</td>\n",
              "      <td>0.71</td>\n",
              "    </tr>\n",
              "    <tr>\n",
              "      <th>RandomForestRegressor</th>\n",
              "      <td>0.98</td>\n",
              "      <td>0.82</td>\n",
              "    </tr>\n",
              "    <tr>\n",
              "      <th>SGDRegressor</th>\n",
              "      <td>0.76</td>\n",
              "      <td>0.70</td>\n",
              "    </tr>\n",
              "  </tbody>\n",
              "</table>\n",
              "</div>"
            ],
            "text/plain": [
              "                       R^Squared (Train)  R^Squared (Test)\n",
              "LinearRegression                    0.76              0.71\n",
              "RandomForestRegressor               0.98              0.82\n",
              "SGDRegressor                        0.76              0.70"
            ]
          },
          "execution_count": 80,
          "metadata": {},
          "output_type": "execute_result"
        }
      ],
      "source": [
        "# Initialize a list of models\n",
        "models = [LinearRegression(), \n",
        "          RandomForestRegressor(n_estimators=10000, n_jobs=-1, random_state=42), \n",
        "          SGDRegressor(max_iter=10000, random_state=42)]\n",
        "\n",
        "# Initialize lists of respective metrics\n",
        "train_accuracies, test_accuracies = list(), list()\n",
        "\n",
        "# Train models one by one\n",
        "for model in models:\n",
        "    model.fit(X_train, y_train)\n",
        "\n",
        "    y_train_predict = model.predict(X_train)\n",
        "    y_test_predict = model.predict(X_test)\n",
        "\n",
        "    train_accuracies.append(model.score(X_train, y_train))\n",
        "    test_accuracies.append(model.score(X_test, y_test))\n",
        "\n",
        "# Aggregating information and displaying the results as a dataframe\n",
        "results = [train_accuracies, test_accuracies]\n",
        "metrics = ['R^Squared (Train)', 'R^Squared (Test)']\n",
        "model_names = ['LinearRegression', 'RandomForestRegressor', 'SGDRegressor']\n",
        "result_frame = pd.DataFrame(data=results, columns=model_names, index=metrics)\n",
        "result_frame.transpose()"
      ]
    },
    {
      "cell_type": "markdown",
      "metadata": {
        "id": "Wesgk1UBguEB"
      },
      "source": [
        "**Observations:**\n",
        "\n",
        "- We can observe that Random Forest and Linear Regression peformed better in terms of R^2.\n",
        "- We can try out more complex model or fine tune our existing models to get better results."
      ]
    },
    {
      "cell_type": "markdown",
      "metadata": {
        "id": "9hPQ3ufehNnp"
      },
      "source": [
        "<a name = Section9></a>\n",
        "\n",
        "---\n",
        "# **9. Conclusion**\n",
        "---\n",
        "\n",
        "- We **analyzed** and understood the **behavior** of the data and performed manipulations accordingly.\n",
        "\n",
        "- We **performed several transformations** over the medical health insurance data as per the requirement.\n",
        "\n",
        "- We **tried** out Linear Regression, Random Forest, and Stochastic Gradient Descent.\n",
        "\n",
        "- It turns out that the **Linear Regression** and **Random Forest** gave us **good results**.\n",
        "\n",
        "- We can choose either one, but we should always select a **generalized model** with **better scores**."
      ]
    }
  ],
  "metadata": {
    "colab": {
      "collapsed_sections": [],
      "name": "notebook.ipynb",
      "provenance": []
    },
    "kernelspec": {
      "display_name": "Python 3",
      "name": "python3"
    },
    "language_info": {
      "codemirror_mode": {
        "name": "ipython",
        "version": 3
      },
      "file_extension": ".py",
      "mimetype": "text/x-python",
      "name": "python",
      "nbconvert_exporter": "python",
      "pygments_lexer": "ipython3",
      "version": "3.9.7"
    }
  },
  "nbformat": 4,
  "nbformat_minor": 0
}
